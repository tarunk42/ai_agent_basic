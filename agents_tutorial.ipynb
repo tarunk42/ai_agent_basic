{
 "cells": [
  {
   "cell_type": "code",
   "execution_count": 47,
   "id": "e0560810-a5f7-4bee-b278-39d14bb25a28",
   "metadata": {},
   "outputs": [
    {
     "data": {
      "text/plain": [
       "True"
      ]
     },
     "execution_count": 47,
     "metadata": {},
     "output_type": "execute_result"
    }
   ],
   "source": [
    "import os, requests, textwrap, html, re\n",
    "from typing import List, Dict\n",
    "from dotenv import load_dotenv\n",
    "import pprint\n",
    "\n",
    "load_dotenv()"
   ]
  },
  {
   "cell_type": "code",
   "execution_count": 3,
   "id": "6d0e8133-be46-4267-9e1a-83e490e38585",
   "metadata": {},
   "outputs": [],
   "source": [
    "api_key = os.environ.get(\"OPENAI_API_KEY\")\n",
    "\n",
    "if not api_key:\n",
    "    raise ValueError(\"No 'OPENAI_API_KEY' found in the environment variables\")"
   ]
  },
  {
   "cell_type": "markdown",
   "id": "39eafc98-b649-4e9c-b166-5a0a53b845b0",
   "metadata": {},
   "source": [
    "## Agents\n",
    "\n",
    "- **Agents**, which are LLMs equipped with instructions and tools"
   ]
  },
  {
   "cell_type": "code",
   "execution_count": 17,
   "id": "3e08fc7a-952d-4674-812a-df3fd4e6ee2a",
   "metadata": {},
   "outputs": [
    {
     "data": {
      "text/plain": [
       "'GeneralKenobi!'"
      ]
     },
     "execution_count": 17,
     "metadata": {},
     "output_type": "execute_result"
    }
   ],
   "source": [
    "from agents import Agent, Runner\n",
    "\n",
    "agent = Agent(\n",
    "    name = \"Basic Agent\",\n",
    "    instructions=\"You are a funny star wars agent, respond in all camel case.\",\n",
    "    model = \"gpt-4o\"\n",
    ")\n",
    "\n",
    "result = await Runner.run(agent, \"Hello There\")\n",
    "result.final_output"
   ]
  },
  {
   "cell_type": "code",
   "execution_count": 18,
   "id": "dbae3b3f-5b95-44bd-ae05-f28d69206697",
   "metadata": {},
   "outputs": [
    {
     "data": {
      "text/plain": [
       "\"It'sCoarseAndRoughAndIrritatesTheJedi!\""
      ]
     },
     "execution_count": 18,
     "metadata": {},
     "output_type": "execute_result"
    }
   ],
   "source": [
    "result = await Runner.run(agent, \"I dont like sand\")\n",
    "result.final_output"
   ]
  },
  {
   "cell_type": "code",
   "execution_count": 19,
   "id": "3f723eaf-74d5-4e1a-9296-9318a14ab2d6",
   "metadata": {},
   "outputs": [],
   "source": [
    "joke_agent = Agent(\n",
    "    name = \"Joke Agent\",\n",
    "    instructions = \"You are a joke teller. You are given a topic and you need to tell a joke about it.\"\n",
    ")"
   ]
  },
  {
   "cell_type": "code",
   "execution_count": 63,
   "id": "a2c0615c-01cc-4b1e-84b1-f136ed982c81",
   "metadata": {},
   "outputs": [
    {
     "data": {
      "text/plain": [
       "'Why was Neha\\'s favorite monster always ready for a photoshoot?\\n\\nBecause it knew how to strike a \"ghoul-icious\" pose!'"
      ]
     },
     "execution_count": 63,
     "metadata": {},
     "output_type": "execute_result"
    }
   ],
   "source": [
    "joke_result = await Runner.run(joke_agent, \"Neha, monster, sexy\")\n",
    "joke_result.final_output"
   ]
  },
  {
   "cell_type": "code",
   "execution_count": 21,
   "id": "46050c67-d72f-4c21-b71a-bbc140cea2a6",
   "metadata": {},
   "outputs": [],
   "source": [
    "language_agent = Agent(\n",
    "    name = \"Language Agent\",\n",
    "    instructions = \"You are a language expert. You are given a joke and you need to rewrite it in a different language.\"\n",
    ")"
   ]
  },
  {
   "cell_type": "code",
   "execution_count": 66,
   "id": "c2bc853b-c85d-4609-9635-91c3365d1414",
   "metadata": {},
   "outputs": [
    {
     "name": "stdout",
     "output_type": "stream",
     "text": [
      "नेहा चा आवडता राक्षस फोटोंसाठी नेहमी तयार का होता?\n",
      "\n",
      "कारण त्याला \"भूत-टाकाऊ\" पोझ द्यायला जमत होतं!\n"
     ]
    }
   ],
   "source": [
    "# joke_result = await Runner.run(joke_agent, \"Star Wars\")\n",
    "translated_result = await Runner.run(language_agent, \"marathi:\" + joke_result.final_output)\n",
    "print(translated_result.final_output)"
   ]
  },
  {
   "cell_type": "markdown",
   "id": "717ea037-1f72-403b-8fdc-25edee4fc8b2",
   "metadata": {},
   "source": [
    "## Structured Outputs\n",
    "\n",
    "- **Structured Outputs** are a way to format the output of an LLM in a structured manner. This can be useful for tasks require specific formatting or data extraction."
   ]
  },
  {
   "cell_type": "code",
   "execution_count": 76,
   "id": "a8232310-5db4-4526-8308-9f00ca1c54bb",
   "metadata": {},
   "outputs": [],
   "source": [
    "from pydantic import BaseModel\n",
    "from agents import Agent\n",
    "\n",
    "class Recipe(BaseModel):\n",
    "    title: str\n",
    "    ingredients: list[str]\n",
    "    cooking_time: int\n",
    "    servings: int\n",
    "\n",
    "recipe_agent = Agent(\n",
    "    name = \"Recipe Agent\",\n",
    "    instructions = (\"You are an agent fot creating recipes. You will be given the name of a food and your job \\\n",
    "                      is to output that as an actual detailed recipe. The cooking time is in minutes.\"),\n",
    "    output_type = Recipe\n",
    ")"
   ]
  },
  {
   "cell_type": "code",
   "execution_count": 79,
   "id": "55dab021-43f5-4aba-891e-917df53257f0",
   "metadata": {},
   "outputs": [
    {
     "name": "stdout",
     "output_type": "stream",
     "text": [
      "title='Chicken Biriyani' ingredients=['2 cups basmati rice', '500g chicken, cut into pieces', '2 large onions, thinly sliced', '2 tomatoes, chopped', '1 cup yogurt', '4 tablespoons cooking oil or ghee', '1 tablespoon ginger-garlic paste', '1 teaspoon turmeric powder', '2 teaspoons red chili powder', '1 teaspoon garam masala', '1 tablespoon biriyani masala', 'Salt, to taste', 'A few strands of saffron', '1/4 cup warm milk', 'Fresh coriander leaves, chopped', 'Fresh mint leaves, chopped', '4 cups water', 'Whole spices: 2 bay leaves, 4 cloves, 2-inch cinnamon stick, 3 cardamom pods, 1 teaspoon cumin seeds'] cooking_time=90 servings=4\n"
     ]
    }
   ],
   "source": [
    "response = await Runner.run(recipe_agent, \"Chicken Biriyani\")\n",
    "print(response.final_output)"
   ]
  },
  {
   "cell_type": "markdown",
   "id": "9b9a0988-2938-41a1-a69f-6f2f38c071c8",
   "metadata": {},
   "source": [
    "## Tool Calling\n",
    "\n",
    "- **Tool Calling** is a way to extend the capabilities of an LLM by allowing it to call external tools or APIs. This can be useful for tasks that require access to tools."
   ]
  },
  {
   "cell_type": "code",
   "execution_count": 27,
   "id": "5a70ff6e-1de8-45f8-88a8-8ff44f1bf68b",
   "metadata": {},
   "outputs": [],
   "source": [
    "from agents import Agent, function_tool, Runner\n",
    "\n",
    "\n",
    "@function_tool\n",
    "def get_weather(city: str) -> str:\n",
    "    BASE_URL = \"https://api.openweathermap.org/data/2.5/weather\"\n",
    "    weather_api = os.getenv(\"OPEN_WEATHER_API_KEY\")\n",
    "    if not weather_api:\n",
    "        raise ValueError(\"Missing Weather API\")\n",
    "\n",
    "    try:\n",
    "        response = requests.get(\n",
    "            BASE_URL,\n",
    "            timeout=10,\n",
    "            params={\"q\":city, \"units\": \"metric\", \"appid\": weather_api}\n",
    "        )\n",
    "        response.raise_for_status()\n",
    "    except requests.exceptions.RequestException as err:\n",
    "        return f\"Couldn't reach OpenWeather: {err}\"\n",
    "\n",
    "    data = response.json()\n",
    "    description = data[\"weather\"][0][\"description\"].capitalize()\n",
    "    temp = data[\"main\"][\"temp\"]\n",
    "    feels = data[\"main\"][\"feels_like\"]\n",
    "    humidity = data[\"main\"][\"humidity\"]\n",
    "\n",
    "    return (\n",
    "        f\"In {city.title()} it's {description} at {temp} °C, (feels like {feels} °C) with {humidity}% humidity.\"\n",
    "    )"
   ]
  },
  {
   "cell_type": "code",
   "execution_count": 4,
   "id": "77ade5f5-82a8-41f7-8740-e5a77e0da157",
   "metadata": {},
   "outputs": [
    {
     "data": {
      "text/plain": [
       "\"In Birmingham it's Broken clouds at 28.94 °C, (feels like 33.35 °C) with 74% humidity.\""
      ]
     },
     "execution_count": 4,
     "metadata": {},
     "output_type": "execute_result"
    }
   ],
   "source": [
    "# get_weather(\"Birmingham\")"
   ]
  },
  {
   "cell_type": "code",
   "execution_count": 6,
   "id": "8e63de8e-87ce-4fce-ad77-c1c553c665c8",
   "metadata": {},
   "outputs": [],
   "source": [
    "weather_agent = Agent(\n",
    "    name=\"Weather Agent\",\n",
    "    instructions=\"You are a weahter agent. You are given a city and you need to tell the weather.\",\n",
    "    tools = [get_weather]\n",
    ")"
   ]
  },
  {
   "cell_type": "code",
   "execution_count": 8,
   "id": "8f0df3d5-4a60-4f10-9b21-329db3a75744",
   "metadata": {},
   "outputs": [
    {
     "name": "stdout",
     "output_type": "stream",
     "text": [
      "In Tokyo, the weather is currently broken clouds with a temperature of 31.01°C, though it feels like 35.64°C, and the humidity is 63%.\n"
     ]
    }
   ],
   "source": [
    "weather_result = await Runner.run(weather_agent, \"Give me the weather details of a random city.\")\n",
    "print(weather_result.final_output)"
   ]
  },
  {
   "cell_type": "markdown",
   "id": "a3199aa5-b651-4e16-921c-c948000d6d65",
   "metadata": {},
   "source": [
    "### SEARCH TOOL"
   ]
  },
  {
   "cell_type": "code",
   "execution_count": 53,
   "id": "8cd71f1b-5274-4244-8950-f10d81d4c645",
   "metadata": {},
   "outputs": [],
   "source": [
    "_tag_re = re.compile(r\"<[^>]+>\")            # pre-compiled for speed\n",
    "\n",
    "def _clean_html(raw: str) -> str:\n",
    "    \"\"\"Unescape entities (&amp; → &) and strip <tags>.\"\"\"\n",
    "    return _tag_re.sub(\"\", html.unescape(raw or \"\"))\n",
    "\n",
    "@function_tool\n",
    "def search_tool(query: str, count: int = 10) -> str:\n",
    "    BASE_URL = \"https://api.search.brave.com/res/v1/web/search\"\n",
    "    HEADERS  = {\"Accept\": \"application/json\"}\n",
    "    token = os.environ.get(\"BRAVE_SEARCH_API_KEY\")\n",
    "    params   = {\"q\": query, \"count\": max(1, min(count, 20))}\n",
    "    headers  = {**HEADERS, \"X-Subscription-Token\": token}\n",
    "    if not token:\n",
    "        raise ValueError(\"No 'BRAVE_SEARCH_API_KEY' found in the environment variables\")\n",
    "    try:\n",
    "        r = requests.get(BASE_URL, params=params, headers=headers, timeout=10)\n",
    "        r.raise_for_status()\n",
    "    except requests.exceptions.HTTPError as http_err:\n",
    "        # bubble up Brave's own JSON error message if present\n",
    "        detail = \"\"\n",
    "        try:\n",
    "            detail = r.json().get(\"error\", {}).get(\"detail\", \"\")\n",
    "        except Exception:\n",
    "            pass\n",
    "        return [{\"error\": f\"{r.status_code}: {detail or http_err}\"}]\n",
    "    except requests.exceptions.RequestException as err:\n",
    "        return [{\"error\": f\"Network error: {err}\"}]\n",
    "\n",
    "    data     = r.json()\n",
    "    results  = data.get(\"web\", {}).get(\"results\", [])[:params[\"count\"]]\n",
    "\n",
    "    cleaned: List[Dict[str, str]] = []\n",
    "    for res in results:\n",
    "        title = res.get(\"title\") or res.get(\"meta_url\", {}).get(\"hostname\", \"\")\n",
    "        url   = res.get(\"url\")\n",
    "        desc  = textwrap.shorten(_clean_html(res.get(\"description\", \"\")), 160)\n",
    "        cleaned.append({\"title\": title, \"url\": url, \"description\": desc})\n",
    "\n",
    "    return cleaned or [{\"error\": \"No web results found\"}]\n",
    "        "
   ]
  },
  {
   "cell_type": "code",
   "execution_count": 54,
   "id": "9b86e8b2-1fa6-47b9-aad3-0fa30cef29e4",
   "metadata": {
    "scrolled": true
   },
   "outputs": [],
   "source": [
    "search_agent = Agent(\n",
    "    name= \"Search Agent\",\n",
    "    instructions=\"You are a web search agent. You answer user questions that need fresh information.\",\n",
    "    tools=[search_tool]\n",
    ")"
   ]
  },
  {
   "cell_type": "code",
   "execution_count": 55,
   "id": "533f4896-633d-4666-9faa-8f1d4df8c222",
   "metadata": {},
   "outputs": [
    {
     "name": "stdout",
     "output_type": "stream",
     "text": [
      "(\"Here are today's headlines involving the Thailand-Cambodia conflict:\\n\"\n",
      " '\\n'\n",
      " \"1. [Thai leader warns clashes with Cambodia could 'move toward \"\n",
      " \"war'](https://www.bbc.com/news/articles/ckg5gz03d8no) - Thailand claims the \"\n",
      " \"clash began with Cambodia's military deploying drones to conduct \"\n",
      " 'surveillance of Thai troops near the border.\\n'\n",
      " '\\n'\n",
      " '2. [Twelve killed in Thailand-Cambodia border '\n",
      " 'clashes](https://www.bbc.com/news/articles/c80p8z0y0eko) - Border clashes '\n",
      " 'have resulted in multiple fatalities, with conflicting accounts from both '\n",
      " 'sides regarding the cause.\\n'\n",
      " '\\n'\n",
      " \"3. [Thailand-Cambodia border: Thailand warns clashes could 'move towards \"\n",
      " \"war'](https://www.bbc.com/news/live/c98j77zde86t) - At least 16 people have \"\n",
      " 'been confirmed killed, while tens of thousands have been moved to evacuation '\n",
      " 'centers.\\n'\n",
      " '\\n'\n",
      " '4. [Thailand closes land crossings during border dispute with '\n",
      " 'Cambodia](https://www.bbc.com/news/articles/c2ezgjlzggyo) - Thailand has '\n",
      " 'banned land travel into Cambodia amid ongoing tensions.\\n'\n",
      " '\\n'\n",
      " '5. [Thailand-Cambodia: Social media war flares up amid border '\n",
      " 'clashes](https://www.bbc.com/news/articles/cy9x91ewzvxo) - A digital battle '\n",
      " 'is escalating on social media platforms as nationalists from both countries '\n",
      " 'engage in a war of words.\\n'\n",
      " '\\n'\n",
      " 'For further details, you can visit the articles linked above.')\n"
     ]
    }
   ],
   "source": [
    "search_result = await Runner.run(\n",
    "    search_agent,\n",
    "    \"List today's new headlines for Thailand Cambodia War\"\n",
    ")\n",
    "\n",
    "pprint.pp(search_result.final_output)\n"
   ]
  },
  {
   "cell_type": "markdown",
   "id": "0bcab160-a762-4a37-9a68-c697e33964d2",
   "metadata": {},
   "source": [
    "### Multi-Tool Agent"
   ]
  },
  {
   "cell_type": "code",
   "execution_count": 56,
   "id": "5077bfaf-8e28-4a29-8935-7c0cc4308e19",
   "metadata": {},
   "outputs": [],
   "source": [
    "multi_tool_agent = Agent(\n",
    "    name=\"Assisstant\",\n",
    "    instructions=\"You are a helpful assisstant. You are required to resolve user query based on the type of the question.\",\n",
    "    tools=[search_tool, get_weather]\n",
    ")"
   ]
  },
  {
   "cell_type": "code",
   "execution_count": 57,
   "id": "f55428ba-e3d0-4df9-87a1-50a5ef207f79",
   "metadata": {},
   "outputs": [
    {
     "name": "stdout",
     "output_type": "stream",
     "text": [
      "('### Thailand-Cambodia War Update:\\n'\n",
      " 'Thailand and Cambodia have exchanged heavy artillery fire as border fighting '\n",
      " 'intensifies. For more details, you can read the full report '\n",
      " '[here](https://www.reuters.com/world/asia-pacific/thailand-cambodia-exchange-heavy-artillery-fire-border-battle-expands-2025-07-25/).\\n'\n",
      " '\\n'\n",
      " '### Weather in New Delhi:\\n'\n",
      " '- Condition: Mist\\n'\n",
      " '- Temperature: 29.09°C (Feels like 36.09°C)\\n'\n",
      " '- Humidity: 89%')\n"
     ]
    }
   ],
   "source": [
    "multi_tool_result = await Runner.run(multi_tool_agent, \"Give me news update on Thailand-Cambodia War and get me the weather of New Delhi.\")\n",
    "pprint.pp(multi_tool_result.final_output)"
   ]
  },
  {
   "cell_type": "markdown",
   "id": "fc474352-8a37-4c15-9e28-6226ddc43ca1",
   "metadata": {},
   "source": [
    "### OpenAI Web Search Tool"
   ]
  },
  {
   "cell_type": "code",
   "execution_count": 66,
   "id": "49bfa806-264e-4705-a602-25cce03c67e8",
   "metadata": {},
   "outputs": [],
   "source": [
    "from agents import WebSearchTool\n",
    "\n",
    "news_agent = Agent(\n",
    "    name=\"News Reporter\",\n",
    "    instructions=\"You are a news reporter. Your job is to find recent news articles on the internet about world politics.\",\n",
    "    tools=[WebSearchTool()]\n",
    ")"
   ]
  },
  {
   "cell_type": "code",
   "execution_count": 67,
   "id": "c481d5c5-df4b-4f5b-8d4e-c4dd7af8f0cc",
   "metadata": {},
   "outputs": [
    {
     "name": "stdout",
     "output_type": "stream",
     "text": [
      "The border conflict between Thailand and Cambodia has escalated into the most severe confrontation in over a decade, resulting in significant casualties and mass displacement.\n",
      "\n",
      "**Casualties and Displacement:**\n",
      "- As of July 27, 2025, the death toll has surpassed 30 individuals, including both civilians and soldiers from both nations. ([ft.com](https://www.ft.com/content/28919c74-1086-46f9-8115-43ae027cd965?utm_source=openai))\n",
      "- The conflict has led to the evacuation of over 130,000 people in Thailand and at least 35,000 in Cambodia. ([ft.com](https://www.ft.com/content/28919c74-1086-46f9-8115-43ae027cd965?utm_source=openai))\n",
      "\n",
      "**Conflict Zones:**\n",
      "- Clashes have been concentrated near the disputed Ta Muen Thom temple area and have expanded to additional provinces, including Thailand's Trat and Cambodia's Pursat. ([reuters.com](https://www.reuters.com/world/asia-pacific/thai-cambodian-fighting-extends-into-third-day-malaysia-urges-ceasefire-2025-07-26/?utm_source=openai))\n",
      "\n",
      "**International Response:**\n",
      "- U.S. President Donald Trump has intervened, urging both nations to engage in immediate ceasefire talks and threatening to withhold trade agreements if hostilities continue. ([reuters.com](https://www.reuters.com/world/asia-pacific/trump-says-thailand-cambodia-agree-hold-immediate-ceasefire-talks-2025-07-26/?utm_source=openai))\n",
      "- The United Nations Security Council has convened to discuss the crisis, emphasizing the need for restraint and peaceful resolution. ([apnews.com](https://apnews.com/article/eda96eb133a4561fa192029466da8dcf?utm_source=openai))\n",
      "- Malaysia, as the current chair of ASEAN, is actively promoting a ceasefire, with Cambodia expressing support and Thailand agreeing in principle. ([reuters.com](https://www.reuters.com/world/asia-pacific/thai-cambodian-fighting-extends-into-third-day-malaysia-urges-ceasefire-2025-07-26/?utm_source=openai))\n",
      "\n",
      "**Military Actions:**\n",
      "- Thailand has declared martial law in eight border districts to safeguard national sovereignty and the safety of its citizens. ([euronews.com](https://www.euronews.com/2025/07/25/thailand-declares-martial-law-in-border-districts-as-conflict-with-cambodia-worsens?utm_source=openai))\n",
      "- Both countries have accused each other of initiating the violence and targeting civilians, with reports of heavy artillery exchanges and airstrikes. ([apnews.com](https://apnews.com/article/eda96eb133a4561fa192029466da8dcf?utm_source=openai))\n",
      "\n",
      "**Historical Context:**\n",
      "- The conflict is rooted in longstanding territorial disputes over ancient temple sites, notably the Preah Vihear Temple, which has been a point of contention since the colonial era. ([time.com](https://time.com/7294994/thailand-cambodia-border-dispute-hun-sen-thaksin-paetongtarn-history-explainer/?utm_source=openai))\n",
      "\n",
      "The situation remains volatile, with ongoing diplomatic efforts aimed at de-escalation and the protection of civilians.\n",
      "\n",
      "\n",
      "## Escalating Thailand-Cambodia Border Conflict:\n",
      "- [Cambodia confirms first deaths in cross-border conflict with Thailand](https://www.ft.com/content/28919c74-1086-46f9-8115-43ae027cd965?utm_source=openai)\n",
      "- [Trump says Thailand, Cambodia agree to hold immediate ceasefire talks](https://www.reuters.com/world/asia-pacific/trump-says-thailand-cambodia-agree-hold-immediate-ceasefire-talks-2025-07-26/?utm_source=openai)\n",
      "- [Thailand and Cambodia trade fresh attacks and accusations as allies call for a ceasefire](https://apnews.com/article/eda96eb133a4561fa192029466da8dcf?utm_source=openai) \n"
     ]
    }
   ],
   "source": [
    "reporter_result = await Runner.run(news_agent, \"find latest news on thailand cambodia conflict\")\n",
    "print(reporter_result.final_output)"
   ]
  },
  {
   "cell_type": "markdown",
   "id": "dd71a1aa-6334-47fb-9942-35ee293f91a4",
   "metadata": {},
   "source": [
    "## HANDOFFS\n",
    "\n",
    "- **Handoff** is a way for an agent to invoke another agent"
   ]
  },
  {
   "cell_type": "code",
   "execution_count": 121,
   "id": "9de9a5d8-fe21-4c36-b8ab-a979274165a1",
   "metadata": {},
   "outputs": [],
   "source": [
    "from agents import Agent, Runner, function_tool\n",
    "from pydantic import BaseModel\n",
    "\n",
    "class Tutorial(BaseModel):\n",
    "    outline: str\n",
    "    tutorial: str\n",
    "\n",
    "tutorial_generator = Agent(\n",
    "    name=\"Tutorial Generator\",\n",
    "    handoff_description=\"Used for generating a tutorial based on an outline.\",\n",
    "    instructions=(\n",
    "        \"Given a programming topic and an outline, your job is to generate code snippets for each section of the outline.\"\n",
    "        \"Format the tutorial in Markdown using a mix of text for explanation and code snippets for examples.\"\n",
    "        \"Where it makes sense, include comments in the code snippets to further explain the code.\"\n",
    "    )\n",
    ")\n",
    "\n",
    "outline_builder = Agent(\n",
    "    name=\"Outline Builder\",\n",
    "    instructions=(\n",
    "        \"Given a particular programming topic, your job is to help come up with an outline of the tutorial.\"\n",
    "        \"You will only do that by crafting an outline.\"\n",
    "        \"After making the outline, hand it to the tutorial generator agent.\"\n",
    "    ),\n",
    "    handoffs=[tutorial_generator],\n",
    "    output_type=Tutorial\n",
    ")"
   ]
  },
  {
   "cell_type": "code",
   "execution_count": 122,
   "id": "bf9d45f7-2b5e-4385-a6d7-46d1640bf850",
   "metadata": {},
   "outputs": [],
   "source": [
    "tutorial_response = await Runner.run(outline_builder, \"Loops in C++\")"
   ]
  },
  {
   "cell_type": "code",
   "execution_count": 123,
   "id": "4d0a8317-39ed-439f-8dd4-64a8bc85766f",
   "metadata": {},
   "outputs": [
    {
     "name": "stdout",
     "output_type": "stream",
     "text": [
      "outline='1. Introduction to Loops in C++\\n    - Definition and Purpose\\n    - Importance in Programming\\n\\n2. Types of Loops\\n    - Overview of Loop Types\\n    - Comparison of Loop Features\\n\\n3. The For Loop\\n    - Syntax and Structure\\n    - Use Cases and Examples\\n    - Common Pitfalls\\n\\n4. The While Loop\\n    - Syntax and Structure\\n    - Use Cases and Examples\\n    - Tips for Avoiding Infinite Loops\\n\\n5. The Do-While Loop\\n    - Syntax and Structure\\n    - Key Differences from While Loop\\n    - Practical Examples\\n\\n6. Nested Loops\\n    - Understanding Nested Loops\\n    - Examples with Practical Applications\\n\\n7. Loop Control Statements\\n    - Break Statement\\n    - Continue Statement\\n    - Understanding the Use of \"goto\" (an optional part)\\n\\n8. Performance Considerations\\n    - Optimizing Loop Performance\\n    - Using Iterators and the Standard Library\\n\\n9. Common Mistakes and Best Practices\\n    - Off-by-One Errors\\n    - Efficient Loop Design\\n\\n10. Conclusion\\n    - Recap of Key Points\\n    - Encouragement for Practice and Experimentation' tutorial='## 1. Introduction to Loops in C++\\nLoops are a fundamental concept in programming, allowing for repeated execution of a block of code. They are essential for automating repetitive tasks, managing data collections, and creating complex algorithms.\\n\\n## 2. Types of Loops\\nC++ supports three primary types of loops: for loops, while loops, and do-while loops. Each has unique features, making them suitable for different scenarios. Understanding these differences will aid in selecting the right loop for your task.\\n\\n## 3. The For Loop\\nThe for loop is typically used for counting iterations. It consists of an initialization statement, a condition, and an increment expression. \\n### Example:\\n```cpp\\nfor (int i = 0; i < 10; i++) {\\n    std::cout << i << std::endl;\\n}\\n```\\nThis loop will print numbers 0 to 9.\\n\\n## 4. The While Loop\\nWhile loops are condition-controlled, meaning they continue to execute until a specified condition is false.\\n### Example:\\n```cpp\\nint i = 0;\\nwhile (i < 10) {\\n    std::cout << i << std::endl;\\n    i++;\\n}\\n```\\nNotice how the condition is checked before the loop executes.\\n\\n## 5. The Do-While Loop\\nA do-while loop is similar to a while loop, but it checks the condition after the loop\\'s body has been executed.\\n### Example:\\n```cpp\\nint i = 0;\\ndo {\\n    std::cout << i << std::endl;\\n    i++;\\n} while (i < 10);\\n```\\nThis guarantees that the loop body is executed at least once.\\n\\n## 6. Nested Loops\\nNested loops run one loop inside another, useful for multidimensional data.\\n### Example:\\n```cpp\\nfor (int i = 0; i < 5; i++) {\\n    for (int j = 0; j < 3; j++) {\\n        std::cout << \"i: \" << i << \", j: \" << j << std::endl;\\n    }\\n}\\n```\\nThis will run the inner loop for each iteration of the outer loop.\\n\\n## 7. Loop Control Statements\\nControl statements like \"break\" and \"continue\" alter normal loop execution.\\n### Break Statement:\\nStops the loop execution entirely.\\n### Continue Statement:\\nSkips the current iteration and goes to the next.\\n\\n## 8. Performance Considerations\\nEfficient loop design can significantly enhance performance. This might involve minimizing the work done inside the loop or using C++\\'s Standard Library algorithms, which are often optimized better than raw loops.\\n\\n## 9. Common Mistakes and Best Practices\\n- **Off-by-One Errors:** Ensure loop conditions match the intended range.\\n- **Efficiency:** Avoid unnecessary computations within loops.\\n\\n## 10. Conclusion\\nBy mastering the different types of loops and their best practices in C++, you can write more efficient, effective, and elegant code. Experiment with each type to understand their unique properties and performance implications. Practice is key to harnessing the full power of loops in C++ programming.'\n"
     ]
    }
   ],
   "source": [
    "print(tutorial_response.final_output)"
   ]
  },
  {
   "cell_type": "code",
   "execution_count": 124,
   "id": "2cf37277-95a0-4e70-a4d6-2a6148360030",
   "metadata": {},
   "outputs": [
    {
     "name": "stdout",
     "output_type": "stream",
     "text": [
      "1. Introduction to Loops in C++\n",
      "    - Definition and Purpose\n",
      "    - Importance in Programming\n",
      "\n",
      "2. Types of Loops\n",
      "    - Overview of Loop Types\n",
      "    - Comparison of Loop Features\n",
      "\n",
      "3. The For Loop\n",
      "    - Syntax and Structure\n",
      "    - Use Cases and Examples\n",
      "    - Common Pitfalls\n",
      "\n",
      "4. The While Loop\n",
      "    - Syntax and Structure\n",
      "    - Use Cases and Examples\n",
      "    - Tips for Avoiding Infinite Loops\n",
      "\n",
      "5. The Do-While Loop\n",
      "    - Syntax and Structure\n",
      "    - Key Differences from While Loop\n",
      "    - Practical Examples\n",
      "\n",
      "6. Nested Loops\n",
      "    - Understanding Nested Loops\n",
      "    - Examples with Practical Applications\n",
      "\n",
      "7. Loop Control Statements\n",
      "    - Break Statement\n",
      "    - Continue Statement\n",
      "    - Understanding the Use of \"goto\" (an optional part)\n",
      "\n",
      "8. Performance Considerations\n",
      "    - Optimizing Loop Performance\n",
      "    - Using Iterators and the Standard Library\n",
      "\n",
      "9. Common Mistakes and Best Practices\n",
      "    - Off-by-One Errors\n",
      "    - Efficient Loop Design\n",
      "\n",
      "10. Conclusion\n",
      "    - Recap of Key Points\n",
      "    - Encouragement for Practice and Experimentation\n"
     ]
    }
   ],
   "source": [
    "print(tutorial_response.final_output.outline)"
   ]
  },
  {
   "cell_type": "code",
   "execution_count": 125,
   "id": "49c833b6-aef0-40f4-9167-7ecdd70731fa",
   "metadata": {},
   "outputs": [
    {
     "name": "stdout",
     "output_type": "stream",
     "text": [
      "## 1. Introduction to Loops in C++\n",
      "Loops are a fundamental concept in programming, allowing for repeated execution of a block of code. They are essential for automating repetitive tasks, managing data collections, and creating complex algorithms.\n",
      "\n",
      "## 2. Types of Loops\n",
      "C++ supports three primary types of loops: for loops, while loops, and do-while loops. Each has unique features, making them suitable for different scenarios. Understanding these differences will aid in selecting the right loop for your task.\n",
      "\n",
      "## 3. The For Loop\n",
      "The for loop is typically used for counting iterations. It consists of an initialization statement, a condition, and an increment expression. \n",
      "### Example:\n",
      "```cpp\n",
      "for (int i = 0; i < 10; i++) {\n",
      "    std::cout << i << std::endl;\n",
      "}\n",
      "```\n",
      "This loop will print numbers 0 to 9.\n",
      "\n",
      "## 4. The While Loop\n",
      "While loops are condition-controlled, meaning they continue to execute until a specified condition is false.\n",
      "### Example:\n",
      "```cpp\n",
      "int i = 0;\n",
      "while (i < 10) {\n",
      "    std::cout << i << std::endl;\n",
      "    i++;\n",
      "}\n",
      "```\n",
      "Notice how the condition is checked before the loop executes.\n",
      "\n",
      "## 5. The Do-While Loop\n",
      "A do-while loop is similar to a while loop, but it checks the condition after the loop's body has been executed.\n",
      "### Example:\n",
      "```cpp\n",
      "int i = 0;\n",
      "do {\n",
      "    std::cout << i << std::endl;\n",
      "    i++;\n",
      "} while (i < 10);\n",
      "```\n",
      "This guarantees that the loop body is executed at least once.\n",
      "\n",
      "## 6. Nested Loops\n",
      "Nested loops run one loop inside another, useful for multidimensional data.\n",
      "### Example:\n",
      "```cpp\n",
      "for (int i = 0; i < 5; i++) {\n",
      "    for (int j = 0; j < 3; j++) {\n",
      "        std::cout << \"i: \" << i << \", j: \" << j << std::endl;\n",
      "    }\n",
      "}\n",
      "```\n",
      "This will run the inner loop for each iteration of the outer loop.\n",
      "\n",
      "## 7. Loop Control Statements\n",
      "Control statements like \"break\" and \"continue\" alter normal loop execution.\n",
      "### Break Statement:\n",
      "Stops the loop execution entirely.\n",
      "### Continue Statement:\n",
      "Skips the current iteration and goes to the next.\n",
      "\n",
      "## 8. Performance Considerations\n",
      "Efficient loop design can significantly enhance performance. This might involve minimizing the work done inside the loop or using C++'s Standard Library algorithms, which are often optimized better than raw loops.\n",
      "\n",
      "## 9. Common Mistakes and Best Practices\n",
      "- **Off-by-One Errors:** Ensure loop conditions match the intended range.\n",
      "- **Efficiency:** Avoid unnecessary computations within loops.\n",
      "\n",
      "## 10. Conclusion\n",
      "By mastering the different types of loops and their best practices in C++, you can write more efficient, effective, and elegant code. Experiment with each type to understand their unique properties and performance implications. Practice is key to harnessing the full power of loops in C++ programming.\n"
     ]
    }
   ],
   "source": [
    "print(tutorial_response.final_output.tutorial)"
   ]
  },
  {
   "cell_type": "code",
   "execution_count": 151,
   "id": "7d1b7450-225e-46ba-b512-bf6a006ac01c",
   "metadata": {},
   "outputs": [],
   "source": [
    "from agents import Agent, Runner, handoff\n",
    "from agents.extensions.handoff_prompt import RECOMMENDED_PROMPT_PREFIX\n",
    "from pydantic import BaseModel\n",
    "\n",
    "class Outline(BaseModel):\n",
    "    outline: str\n",
    "\n",
    "class Tutorial(BaseModel):\n",
    "    outline: str\n",
    "    tutorial: str\n",
    "\n",
    "tutorial_generator = Agent(\n",
    "    name=\"Tutorial Generator\",\n",
    "    handoff_description=\"Generates a full markdown tutorial—including explanations and code snippets—when given an outline.\",\n",
    "    instructions=f\"\"\"{RECOMMENDED_PROMPT_PREFIX}\n",
    "Expand the supplied outline into a full Markdown tutorial with code snippets.\"\"\",\n",
    "    output_type=Tutorial,\n",
    ")\n",
    "\n",
    "outline_builder = Agent(\n",
    "    name=\"Outline Builder\",\n",
    "    handoff_description=\"Creates a structured outline for a programming tutorial, then hands off to another agent to flesh it out.\",\n",
    "    instructions=f\"\"\"{RECOMMENDED_PROMPT_PREFIX}\n",
    "Create an outline for the requested topic, **then call `transfer_to_tutorial_generator`**.\n",
    "Do **not** write the tutorial yourself.\"\"\",\n",
    "    handoffs=[handoff(\n",
    "        tutorial_generator,\n",
    "        input_type=Outline,\n",
    "        on_handoff=lambda ctx, data: None,   # required when input_type is set\n",
    "    )],\n",
    "    output_type=Outline,   # stops the builder from “finishing” the tutorial\n",
    ")"
   ]
  },
  {
   "cell_type": "code",
   "execution_count": 152,
   "id": "facb83eb-b8fd-4e2d-8103-25bbacc7131d",
   "metadata": {},
   "outputs": [],
   "source": [
    "result = await Runner.run(outline_builder, \"Loops in JavaScript\")"
   ]
  },
  {
   "cell_type": "code",
   "execution_count": 153,
   "id": "c0aa6dd3-d586-48b6-8529-d382a3bf5c5f",
   "metadata": {},
   "outputs": [
    {
     "name": "stdout",
     "output_type": "stream",
     "text": [
      "outline=\"## Introduction to Loops in JavaScript\\n- Definition and purpose of loops\\n- Overview of types of loops in JavaScript\\n\\n## The `for` Loop\\n- Syntax explanation\\n- Example: Iterating through a range of numbers\\n- Use cases\\n  \\n## The `while` Loop\\n- Syntax and flow\\n- Example: Basic loop with a condition\\n- When to use `while` loops\\n\\n## The `do...while` Loop\\n- Syntax and characteristics\\n- Example: Executing a loop at least once\\n- Advantages of using `do...while`\\n\\n## The `for...in` Loop\\n- Working with object properties\\n- Example: Iterating through an object's properties\\n- Ideal use cases and limitations\\n\\n## The `for...of` Loop\\n- Syntax for iterating iterable objects\\n- Example: Looping through arrays\\n- Comparison with `for...in`\\n\\n## Control Flow Statements\\n- `break` keyword explanation with examples\\n- `continue` keyword explanation with examples\\n\\n## Performance Considerations\\n- When to use specific loops\\n- Optimizing loops for performance\\n\\n## Conclusion\\n- Summary of key points\\n- Best practices for using loops in JavaScript\" tutorial='# Loops in JavaScript\\n\\n## Introduction to Loops in JavaScript\\n\\nLoops are a fundamental programming concept that allow repetitive execution of a block of code. They enable you to run the same code multiple times with different values, streamlining processes like iterating over arrays or executing code until a condition is met.\\n\\n### Types of Loops in JavaScript\\n- **`for` loop**\\n- **`while` loop**\\n- **`do...while` loop**\\n- **`for...in` loop**\\n- **`for...of` loop**\\n\\n## The `for` Loop\\n\\nThe `for` loop is one of the most commonly used loops in JavaScript, ideal for iterating over a range of values.\\n\\n### Syntax Explanation\\n```javascript\\nfor (initialization; condition; increment) {\\n    // Code to be executed\\ndone}\\n```\\n\\n### Example: Iterating through a Range of Numbers\\n```javascript\\nfor (let i = 0; i < 5; i++) {\\n    console.log(i);\\n}\\n// Output: 0, 1, 2, 3, 4\\n```\\n\\n### Use Cases\\n- Iterating through arrays\\n- Repeated execution of tasks with defined limits\\n\\n## The `while` Loop\\n\\nThe `while` loop executes a block of code as long as the specified condition evaluates to true.\\n\\n### Syntax and Flow\\n```javascript\\nwhile (condition) {\\n    // Code to be executed\\ndone}\\n```\\n\\n### Example: Basic Loop with a Condition\\n```javascript\\nlet i = 0;\\nwhile (i < 5) {\\n    console.log(i);\\n    i++;\\n}\\n// Output: 0, 1, 2, 3, 4\\n```\\n\\n### When to Use `while` Loops\\n- When the number of iterations is not known beforehand\\n- Iterating based on dynamic conditions\\n\\n## The `do...while` Loop\\n\\nThe `do...while` loop will execute the code block at least once, as the condition is evaluated after the block is executed.\\n\\n### Syntax and Characteristics\\n```javascript\\ndo {\\n    // Code to be executed\\n} while (condition);\\n```\\n\\n### Example: Executing a Loop at Least Once\\n```javascript\\nlet i = 0;\\ndo {\\n    console.log(i);\\n    i++;\\n} while (i < 5);\\n// Output: 0, 1, 2, 3, 4\\n```\\n\\n### Advantages of Using `do...while`\\n- Ensures the code block runs at least once\\n- Useful for menus or repeating actions that need at least one attempt\\n\\n## The `for...in` Loop\\n\\nThe `for...in` loop is used for iterating over the properties of an object.\\n\\n### Working with Object Properties\\n```javascript\\nconst person = { name: \"Alice\", age: 25, profession: \"developer\" };\\nfor (let key in person) {\\n    console.log(`${key}: ${person[key]}`);\\n}\\n// Output: name: Alice, age: 25, profession: developer\\n```\\n\\n### Ideal Use Cases and Limitations\\n- Iterating over object properties\\n- Not suitable for arrays (use `for...of` instead)\\n\\n## The `for...of` Loop\\n\\nThe `for...of` loop is specifically designed for iterating over iterable objects, like arrays and strings.\\n\\n### Syntax for Iterating Iterable Objects\\n```javascript\\nfor (let element of iterable) {\\n    // Code to be executed\\ndone}\\n```\\n\\n### Example: Looping Through Arrays\\n```javascript\\nconst numbers = [1, 2, 3, 4, 5];\\nfor (let num of numbers) {\\n    console.log(num);\\n}\\n// Output: 1, 2, 3, 4, 5\\n```\\n\\n### Comparison with `for...in`\\n- `for...of` is superior for array iteration\\n- `for...in` should be reserved for objects\\n\\n## Control Flow Statements\\n\\n### `break` Keyword Explanation with Examples\\nUse `break` to exit a loop prematurely.\\n```javascript\\nfor (let i = 0; i < 5; i++) {\\n    if (i === 3) break;\\n    console.log(i);\\n}\\n// Output: 0, 1, 2\\n```\\n\\n### `continue` Keyword Explanation with Examples\\nUse `continue` to skip the current iteration and continue with the next one.\\n```javascript\\nfor (let i = 0; i < 5; i++) {\\n    if (i === 3) continue;\\n    console.log(i);\\n}\\n// Output: 0, 1, 2, 4\\n```\\n\\n## Performance Considerations\\n\\n### When to Use Specific Loops\\n- Use `for` for known iteration counts\\n- Use `while` for indefinite loops\\n- Use `for...of` for arrays\\n\\n### Optimizing Loops for Performance\\n- Minimize operations inside loops\\n- Cache loop lengths and repeated calculations\\n\\n## Conclusion\\n\\n### Summary of Key Points\\n- Loops streamline repetitive tasks by automating iterations.\\n- Choose the right loop type based on the specific task needs.\\n\\n### Best Practices for Using Loops in JavaScript\\n- Keep loop bodies minimal for efficiency.\\n- Use appropriate loop types for different data structures.\\n'\n"
     ]
    }
   ],
   "source": [
    "print(result.final_output)"
   ]
  },
  {
   "cell_type": "code",
   "execution_count": 154,
   "id": "af51c319-6f70-4e71-b939-2ffac66aae36",
   "metadata": {},
   "outputs": [
    {
     "name": "stdout",
     "output_type": "stream",
     "text": [
      "## Introduction to Loops in JavaScript\n",
      "- Definition and purpose of loops\n",
      "- Overview of types of loops in JavaScript\n",
      "\n",
      "## The `for` Loop\n",
      "- Syntax explanation\n",
      "- Example: Iterating through a range of numbers\n",
      "- Use cases\n",
      "  \n",
      "## The `while` Loop\n",
      "- Syntax and flow\n",
      "- Example: Basic loop with a condition\n",
      "- When to use `while` loops\n",
      "\n",
      "## The `do...while` Loop\n",
      "- Syntax and characteristics\n",
      "- Example: Executing a loop at least once\n",
      "- Advantages of using `do...while`\n",
      "\n",
      "## The `for...in` Loop\n",
      "- Working with object properties\n",
      "- Example: Iterating through an object's properties\n",
      "- Ideal use cases and limitations\n",
      "\n",
      "## The `for...of` Loop\n",
      "- Syntax for iterating iterable objects\n",
      "- Example: Looping through arrays\n",
      "- Comparison with `for...in`\n",
      "\n",
      "## Control Flow Statements\n",
      "- `break` keyword explanation with examples\n",
      "- `continue` keyword explanation with examples\n",
      "\n",
      "## Performance Considerations\n",
      "- When to use specific loops\n",
      "- Optimizing loops for performance\n",
      "\n",
      "## Conclusion\n",
      "- Summary of key points\n",
      "- Best practices for using loops in JavaScript\n"
     ]
    }
   ],
   "source": [
    "print(result.final_output.outline)"
   ]
  },
  {
   "cell_type": "code",
   "execution_count": 155,
   "id": "10929cfe-c1c2-4db9-808d-254b8b70da96",
   "metadata": {},
   "outputs": [
    {
     "name": "stdout",
     "output_type": "stream",
     "text": [
      "# Loops in JavaScript\n",
      "\n",
      "## Introduction to Loops in JavaScript\n",
      "\n",
      "Loops are a fundamental programming concept that allow repetitive execution of a block of code. They enable you to run the same code multiple times with different values, streamlining processes like iterating over arrays or executing code until a condition is met.\n",
      "\n",
      "### Types of Loops in JavaScript\n",
      "- **`for` loop**\n",
      "- **`while` loop**\n",
      "- **`do...while` loop**\n",
      "- **`for...in` loop**\n",
      "- **`for...of` loop**\n",
      "\n",
      "## The `for` Loop\n",
      "\n",
      "The `for` loop is one of the most commonly used loops in JavaScript, ideal for iterating over a range of values.\n",
      "\n",
      "### Syntax Explanation\n",
      "```javascript\n",
      "for (initialization; condition; increment) {\n",
      "    // Code to be executed\n",
      "done}\n",
      "```\n",
      "\n",
      "### Example: Iterating through a Range of Numbers\n",
      "```javascript\n",
      "for (let i = 0; i < 5; i++) {\n",
      "    console.log(i);\n",
      "}\n",
      "// Output: 0, 1, 2, 3, 4\n",
      "```\n",
      "\n",
      "### Use Cases\n",
      "- Iterating through arrays\n",
      "- Repeated execution of tasks with defined limits\n",
      "\n",
      "## The `while` Loop\n",
      "\n",
      "The `while` loop executes a block of code as long as the specified condition evaluates to true.\n",
      "\n",
      "### Syntax and Flow\n",
      "```javascript\n",
      "while (condition) {\n",
      "    // Code to be executed\n",
      "done}\n",
      "```\n",
      "\n",
      "### Example: Basic Loop with a Condition\n",
      "```javascript\n",
      "let i = 0;\n",
      "while (i < 5) {\n",
      "    console.log(i);\n",
      "    i++;\n",
      "}\n",
      "// Output: 0, 1, 2, 3, 4\n",
      "```\n",
      "\n",
      "### When to Use `while` Loops\n",
      "- When the number of iterations is not known beforehand\n",
      "- Iterating based on dynamic conditions\n",
      "\n",
      "## The `do...while` Loop\n",
      "\n",
      "The `do...while` loop will execute the code block at least once, as the condition is evaluated after the block is executed.\n",
      "\n",
      "### Syntax and Characteristics\n",
      "```javascript\n",
      "do {\n",
      "    // Code to be executed\n",
      "} while (condition);\n",
      "```\n",
      "\n",
      "### Example: Executing a Loop at Least Once\n",
      "```javascript\n",
      "let i = 0;\n",
      "do {\n",
      "    console.log(i);\n",
      "    i++;\n",
      "} while (i < 5);\n",
      "// Output: 0, 1, 2, 3, 4\n",
      "```\n",
      "\n",
      "### Advantages of Using `do...while`\n",
      "- Ensures the code block runs at least once\n",
      "- Useful for menus or repeating actions that need at least one attempt\n",
      "\n",
      "## The `for...in` Loop\n",
      "\n",
      "The `for...in` loop is used for iterating over the properties of an object.\n",
      "\n",
      "### Working with Object Properties\n",
      "```javascript\n",
      "const person = { name: \"Alice\", age: 25, profession: \"developer\" };\n",
      "for (let key in person) {\n",
      "    console.log(`${key}: ${person[key]}`);\n",
      "}\n",
      "// Output: name: Alice, age: 25, profession: developer\n",
      "```\n",
      "\n",
      "### Ideal Use Cases and Limitations\n",
      "- Iterating over object properties\n",
      "- Not suitable for arrays (use `for...of` instead)\n",
      "\n",
      "## The `for...of` Loop\n",
      "\n",
      "The `for...of` loop is specifically designed for iterating over iterable objects, like arrays and strings.\n",
      "\n",
      "### Syntax for Iterating Iterable Objects\n",
      "```javascript\n",
      "for (let element of iterable) {\n",
      "    // Code to be executed\n",
      "done}\n",
      "```\n",
      "\n",
      "### Example: Looping Through Arrays\n",
      "```javascript\n",
      "const numbers = [1, 2, 3, 4, 5];\n",
      "for (let num of numbers) {\n",
      "    console.log(num);\n",
      "}\n",
      "// Output: 1, 2, 3, 4, 5\n",
      "```\n",
      "\n",
      "### Comparison with `for...in`\n",
      "- `for...of` is superior for array iteration\n",
      "- `for...in` should be reserved for objects\n",
      "\n",
      "## Control Flow Statements\n",
      "\n",
      "### `break` Keyword Explanation with Examples\n",
      "Use `break` to exit a loop prematurely.\n",
      "```javascript\n",
      "for (let i = 0; i < 5; i++) {\n",
      "    if (i === 3) break;\n",
      "    console.log(i);\n",
      "}\n",
      "// Output: 0, 1, 2\n",
      "```\n",
      "\n",
      "### `continue` Keyword Explanation with Examples\n",
      "Use `continue` to skip the current iteration and continue with the next one.\n",
      "```javascript\n",
      "for (let i = 0; i < 5; i++) {\n",
      "    if (i === 3) continue;\n",
      "    console.log(i);\n",
      "}\n",
      "// Output: 0, 1, 2, 4\n",
      "```\n",
      "\n",
      "## Performance Considerations\n",
      "\n",
      "### When to Use Specific Loops\n",
      "- Use `for` for known iteration counts\n",
      "- Use `while` for indefinite loops\n",
      "- Use `for...of` for arrays\n",
      "\n",
      "### Optimizing Loops for Performance\n",
      "- Minimize operations inside loops\n",
      "- Cache loop lengths and repeated calculations\n",
      "\n",
      "## Conclusion\n",
      "\n",
      "### Summary of Key Points\n",
      "- Loops streamline repetitive tasks by automating iterations.\n",
      "- Choose the right loop type based on the specific task needs.\n",
      "\n",
      "### Best Practices for Using Loops in JavaScript\n",
      "- Keep loop bodies minimal for efficiency.\n",
      "- Use appropriate loop types for different data structures.\n",
      "\n"
     ]
    }
   ],
   "source": [
    "print(result.final_output.tutorial)"
   ]
  },
  {
   "cell_type": "markdown",
   "id": "6bfd4e41-da43-4920-9990-0060a8971195",
   "metadata": {},
   "source": [
    "### TRIAGE HANDOFFS"
   ]
  },
  {
   "cell_type": "code",
   "execution_count": 170,
   "id": "79bd62a9-5def-411b-8cee-1fcb33fca2dc",
   "metadata": {},
   "outputs": [],
   "source": [
    "from agents import Agent, Runner, handoff, RunContextWrapper\n",
    "\n",
    "history_tutor_agent = Agent(\n",
    "    name=\"History Tutor\",\n",
    "    handoff_description=\"Specialist agent for historical questions\",\n",
    "    instructions=\"You provide assistance with historical queries. Explain important events and context clearly.\"\n",
    ")\n",
    "\n",
    "math_tutor_agent = Agent(\n",
    "    name=\"Math Tutor\",\n",
    "    handoff_description=\"Specialist agent for mathematical questions\",\n",
    "    instructions=\"You provide assistance with mathematical queries. Explain important events and context clearly.\"\n",
    ")\n",
    "\n",
    "biology_tutor_agent = Agent(\n",
    "    name=\"Biology Tutor\",\n",
    "    handoff_description=\"Specialist agent for biology questions\",\n",
    "    instructions=\"You provide assistance with biological queries. Explain important events and context clearly.\"\n",
    ")\n",
    "\n",
    "def on_math_handoff(ctx: RunContextWrapper[None]):\n",
    "    print(\"handing off to the math tutor agent...\")\n",
    "\n",
    "def on_history_handoff(ctx: RunContextWrapper[None]):\n",
    "    print(\"handing off to the history tutor agent...\")\n",
    "\n",
    "def on_biology_handoff(ctx: RunContextWrapper[None]):\n",
    "    print(\"handing off to the biology tutor agent...\")\n",
    "\n",
    "triage_agent = Agent(\n",
    "    name=\"Triage Agent\",\n",
    "    instructions=(\n",
    "        \"You determine which agent to use based on the user's homework question.\"\n",
    "        \"If none of the agents are relative to the topic, refuse to answer.\"\n",
    "    ),\n",
    "    handoffs=[handoff(history_tutor_agent, on_handoff=on_history_handoff), handoff(math_tutor_agent, on_handoff=on_math_handoff), handoff(biology_tutor_agent, on_handoff=on_biology_handoff)]\n",
    ")"
   ]
  },
  {
   "cell_type": "code",
   "execution_count": 171,
   "id": "5a9f746f-359c-45fb-8da5-525c20f6b5ea",
   "metadata": {},
   "outputs": [
    {
     "name": "stdout",
     "output_type": "stream",
     "text": [
      "handing off to the biology tutor agent...\n",
      "The mitochondrion is often referred to as the powerhouse of the cell. This is because it is responsible for producing adenosine triphosphate (ATP), the main energy currency of the cell, through a process called cellular respiration.\n",
      "\n",
      "### Key Functions:\n",
      "\n",
      "1. **Energy Production:** Mitochondria convert nutrients into ATP through oxidative phosphorylation. They use oxygen in this process, which is why they are vital for aerobic respiration.\n",
      "\n",
      "2. **Regulation of Metabolism:** They play a critical role in regulating the metabolic activities within the cell.\n",
      "\n",
      "3. **Apoptosis:** Mitochondria are involved in controlling apoptosis, or programmed cell death, an important process for maintaining healthy tissue.\n",
      "\n",
      "4. **Calcium Storage:** They help regulate calcium levels, which is crucial for various cellular functions.\n",
      "\n",
      "5. **Heat Production:** In some cells, they contribute to thermogenesis, the process of heat production.\n",
      "\n",
      "Mitochondria have their own DNA, separate from the nuclear DNA, which suggests they evolved from free-living bacteria through a symbiotic relationship (endosymbiotic theory).\n"
     ]
    }
   ],
   "source": [
    "result = await Runner.run(triage_agent, \"What is the powerhouse of a cell?\")\n",
    "print(result.final_output)"
   ]
  },
  {
   "cell_type": "code",
   "execution_count": 172,
   "id": "dc56a169-5ce1-4277-a2c0-26903f312527",
   "metadata": {},
   "outputs": [
    {
     "name": "stdout",
     "output_type": "stream",
     "text": [
      "handing off to the history tutor agent...\n",
      "World War I, also known as the Great War, began on July 28, 1914, and there were several interconnected factors leading to its outbreak:\n",
      "\n",
      "1. **Assassination of Archduke Franz Ferdinand**: The immediate cause was the assassination of Archduke Franz Ferdinand of Austria-Hungary and his wife Sophie on June 28, 1914, in Sarajevo by Gavrilo Princip, a member of the Serbian nationalist group, the Black Hand.\n",
      "\n",
      "2. **Alliances**: Europe was divided into two main alliances. The Triple Entente included France, Russia, and Britain, while the Triple Alliance included Germany, Austria-Hungary, and Italy (though Italy did not join the Central Powers when the war started).\n",
      "\n",
      "3. **Imperial Rivalries**: European powers were competing for colonies and influence worldwide, leading to tensions and rivalries.\n",
      "\n",
      "4. **Military Build-up**: There was an arms race, with many countries expanding their militaries and developing plans for mobilization and war.\n",
      "\n",
      "5. **Nationalism**: Rising nationalist sentiments contributed to tensions, particularly in the Balkans, where Slavic groups sought independence from Austria-Hungary.\n",
      "\n",
      "6. **The July Crisis**: Following the assassination, Austria-Hungary, with Germany's support, issued an ultimatum to Serbia. Serbia's response was considered unsatisfactory, prompting Austria-Hungary to declare war on Serbia.\n",
      "\n",
      "7. **Chain Reaction**: Russia mobilized in defense of Serbia, leading Germany to declare war on Russia. Germany then declared war on Russia’s ally, France, and invaded Belgium to reach France, prompting Britain to declare war on Germany.\n",
      "\n",
      "These factors combined into a complex web of alliances and hostilities, igniting a conflict that engulfed much of the world.\n"
     ]
    }
   ],
   "source": [
    "result = await Runner.run(triage_agent, \"How did world war 1 start?\")\n",
    "print(result.final_output)"
   ]
  },
  {
   "cell_type": "code",
   "execution_count": 173,
   "id": "06508a08-7a22-439f-87b9-a4a2e09bc4c9",
   "metadata": {},
   "outputs": [
    {
     "name": "stdout",
     "output_type": "stream",
     "text": [
      "I can't help with that. Would you like to know something else?\n"
     ]
    }
   ],
   "source": [
    "result = await Runner.run(triage_agent, \"How tall is the mount everest?\")\n",
    "print(result.final_output)"
   ]
  },
  {
   "cell_type": "markdown",
   "id": "d8402875-d7f4-4301-940c-5b3f09053ddc",
   "metadata": {},
   "source": [
    "### Example"
   ]
  },
  {
   "cell_type": "code",
   "execution_count": 174,
   "id": "83010ef1-d332-4fce-a336-23a2f5ace59e",
   "metadata": {},
   "outputs": [],
   "source": [
    "from agents import function_tool\n",
    "\n",
    "class ManagerEscalation(BaseModel):\n",
    "    issue: str # the issue being escalated\n",
    "    why: str # why can you not handle it? Used for training in the future\n",
    "\n",
    "@function_tool\n",
    "def create_ticket(issue: str):\n",
    "    \"\"\"\"\n",
    "    Create a ticket in the system for an issue to be resolved.\n",
    "    \"\"\"\n",
    "    print(f\"Creating ticket for issue: {issue}\")\n",
    "    return \"Ticket created. ID: 12345\"\n",
    "    # In a real-world scenario, this would interact with a ticketing system\n",
    "\n",
    "manager_agent = Agent(\n",
    "    name=\"Manager\",\n",
    "    handoff_description=\"Handles escalated issues that require managerial attention\",\n",
    "    instructions=(\n",
    "        \"You handle escalated customer issues that the initial custom service agent could not resolve. \"\n",
    "        \"You will receive the issue and the reason for escalation. If the issue cannot be immediately resolved for the \"\n",
    "        \"customer, create a ticket in the system and inform the customer.\"\n",
    "    ),\n",
    "    tools=[create_ticket],\n",
    ")\n",
    "\n",
    "def on_manager_handoff(ctx: RunContextWrapper[None], input: ManagerEscalation):\n",
    "    print(\"Escalating to manager agent: \", input.issue)\n",
    "    print(\"Reason for escalation: \", input.why)\n",
    "\n",
    "    # here we might store the escalation in a database or log it for future reference\n",
    "\n",
    "customer_service_agent = Agent(\n",
    "    name=\"Customer Service\",\n",
    "    instructions=\"You assist customers with general inquiries and basic troubleshooting. \" +\n",
    "                 \"If the issue cannot be resolved, escalate it to the Manager along with the reason why you cannot fix the issue yourself.\",\n",
    "    handoffs=[handoff(\n",
    "        agent=manager_agent,\n",
    "        input_type=ManagerEscalation,\n",
    "        on_handoff=on_manager_handoff,\n",
    "    )]\n",
    ")"
   ]
  },
  {
   "cell_type": "code",
   "execution_count": 176,
   "id": "86186c0a-ef48-4e4b-8f15-c4752d404720",
   "metadata": {},
   "outputs": [
    {
     "name": "stdout",
     "output_type": "stream",
     "text": [
      "Escalating to manager agent:  Customer unable to process a refund request due to website malfunction.\n",
      "Reason for escalation:  The website displays a blank page when attempting to request a refund, indicating a technical issue beyond basic troubleshooting capabilities.\n",
      "Creating ticket for issue: Customer unable to process a refund request due to website malfunction; website shows blank page.\n",
      "I've created a ticket to address the technical issue preventing the refund process. Our team will look into it, and I'll notify you once it's resolved. Your ticket ID is **12345**.\n"
     ]
    }
   ],
   "source": [
    "result = await Runner.run(customer_service_agent, \"I want a refund but your website wouldn't let me do it, it's just blank.\")\n",
    "print(result.final_output)"
   ]
  },
  {
   "cell_type": "markdown",
   "id": "76d5d02b-3a38-4955-8125-c8f91edd94c1",
   "metadata": {},
   "source": [
    "## TRACES\n",
    "\n",
    "- **Traces** are a way to see what the agents are doing."
   ]
  },
  {
   "cell_type": "code",
   "execution_count": 177,
   "id": "655ca07b-3dc9-4182-882d-0c2a79c0af94",
   "metadata": {},
   "outputs": [
    {
     "data": {
      "text/plain": [
       "'HELLO! I’M DOING GREAT, THANK YOU! HOW ABOUT YOU?'"
      ]
     },
     "execution_count": 177,
     "metadata": {},
     "output_type": "execute_result"
    }
   ],
   "source": [
    "from agents import Agent, Runner\n",
    "\n",
    "agent = Agent(\n",
    "    name=\"Basic Agent\",\n",
    "    instructions=\"You are a helpful assistant. Respond on in all caps.\",\n",
    "    model=\"gpt-4o-mini\"\n",
    ")\n",
    "\n",
    "# when doing a single run the tracing is automatically done\n",
    "result = await Runner.run(agent, \"Hello! How are you?\")\n",
    "result.final_output"
   ]
  },
  {
   "cell_type": "code",
   "execution_count": 179,
   "id": "0842bfc3-c2ca-4900-a12a-367be924e841",
   "metadata": {},
   "outputs": [
    {
     "name": "stdout",
     "output_type": "stream",
     "text": [
      "Translated joke:\n",
      "आप एक चीज़ से बने डायनासोर को क्या कहते हैं?\n",
      "\n",
      "गॉर्गोंज़िला!\n"
     ]
    }
   ],
   "source": [
    "from agents import trace\n",
    "\n",
    "joke_agent = Agent(\n",
    "    name=\"Joke Agent\",\n",
    "    instructions=\"You are a joke teller. You are given a topic and you need to tell a joke about it.\",\n",
    ")\n",
    "language_agent = Agent(\n",
    "    name=\"Language Agent\",\n",
    "    instructions=\"You are a language expert. You are given a joke and you need to rewrite it in a different language.\",\n",
    ")\n",
    "\n",
    "with trace(\"Joke Translation Workflow\"):\n",
    "    joke_result = await Runner.run(joke_agent, \"Cheese\")\n",
    "    translated_result = await Runner.run(language_agent, f\"Translate this joke to Hindi: {joke_result.final_output}\")\n",
    "    print(f\"Translated joke:\\n{translated_result.final_output}\")"
   ]
  },
  {
   "cell_type": "code",
   "execution_count": 180,
   "id": "3c0b3c96-402c-4ea7-9dba-eb153fb36438",
   "metadata": {},
   "outputs": [],
   "source": [
    "from agents import function_tool, RunContextWrapper, handoff\n",
    "from pydantic import BaseModel\n",
    "\n",
    "class ManagerEscalation(BaseModel):\n",
    "    issue: str # the issue being escalated\n",
    "    why: str # why can you not handle it? Used for training in the future\n",
    "\n",
    "@function_tool\n",
    "def create_ticket(issue: str):\n",
    "    \"\"\"\"\n",
    "    Create a ticket in the system for an issue to be resolved.\n",
    "    \"\"\"\n",
    "    print(f\"Creating ticket for issue: {issue}\")\n",
    "    return \"Ticket created. ID: 12345\"\n",
    "    # In a real-world scenario, this would interact with a ticketing system\n",
    "\n",
    "manager_agent = Agent(\n",
    "    name=\"Manager\",\n",
    "    handoff_description=\"Handles escalated issues that require managerial attention\",\n",
    "    instructions=(\n",
    "        \"You handle escalated customer issues that the initial custom service agent could not resolve. \"\n",
    "        \"You will receive the issue and the reason for escalation. If the issue cannot be immediately resolved for the \"\n",
    "        \"customer, create a ticket in the system and inform the customer.\"\n",
    "    ),\n",
    "    tools=[create_ticket],\n",
    ")\n",
    "\n",
    "def on_manager_handoff(ctx: RunContextWrapper[None], input: ManagerEscalation):\n",
    "    print(\"Escalating to manager agent: \", input.issue)\n",
    "    print(\"Reason for escalation: \", input.why)\n",
    "\n",
    "    # here we might store the escalation in a database or log it for future reference\n",
    "\n",
    "customer_service_agent = Agent(\n",
    "    name=\"Customer Service\",\n",
    "    instructions=\"You assist customers with general inquiries and basic troubleshooting. \" +\n",
    "                 \"If the issue cannot be resolved, escalate it to the Manager along with the reason why you cannot fix the issue yourself.\",\n",
    "    handoffs=[handoff(\n",
    "        agent=manager_agent,\n",
    "        input_type=ManagerEscalation,\n",
    "        on_handoff=on_manager_handoff,\n",
    "    )]\n",
    ")"
   ]
  },
  {
   "cell_type": "code",
   "execution_count": 181,
   "id": "81afb368-a0e7-4cd8-bfc4-3fad112b7522",
   "metadata": {},
   "outputs": [
    {
     "name": "stdout",
     "output_type": "stream",
     "text": [
      "Escalating to manager agent:  Unable to refund order due to blank page, even after trying cache clearing and different browsers.\n",
      "Reason for escalation:  Customer has already performed basic troubleshooting steps, and the issue seems to be related to a deeper technical problem with the website that requires managerial or technical intervention.\n",
      "Creating ticket for issue: Customer is unable to refund order due to a blank page appearing, even after clearing cache and using different browsers. Needs technical support to investigate website issue.\n",
      "I apologize for the inconvenience. It looks like there is a technical issue with our website. I've created a ticket for our technical team to investigate this further (Ticket ID: 12345). \n",
      "\n",
      "We will update you as soon as the issue is resolved. Thank you for your patience!\n"
     ]
    }
   ],
   "source": [
    "with trace(\"Customer Service Hotline\"):\n",
    "    result = await Runner.run(customer_service_agent, \"Hello im having an issue with refunding my order. The page is blank and I cannot see anything. I have tried clearing my cache and using a different browser. I am not sure what else to do.\")\n",
    "    print(result.final_output)"
   ]
  },
  {
   "cell_type": "markdown",
   "id": "c342189b-fb00-4739-8737-fbb011ce1fea",
   "metadata": {},
   "source": [
    "## STREAMING"
   ]
  },
  {
   "cell_type": "code",
   "execution_count": 182,
   "id": "d5ccd188-3549-4d01-a120-2517862e6bf4",
   "metadata": {},
   "outputs": [
    {
     "name": "stdout",
     "output_type": "stream",
     "text": [
      "Sure! Here are five jokes for you:\n",
      "\n",
      "1. Why don’t skeletons fight each other?\n",
      "   - They don’t have the guts.\n",
      "\n",
      "2. What do you call cheese that isn't yours?\n",
      "   - Nacho cheese.\n",
      "\n",
      "3. Why did the scarecrow win an award?\n",
      "   - Because he was outstanding in his field!\n",
      "\n",
      "4. What do you get when you cross a snowman and a vampire?\n",
      "   - Frostbite.\n",
      "\n",
      "5. Why did the bicycle fall over?\n",
      "   - It was two-tired!"
     ]
    }
   ],
   "source": [
    "from openai.types.responses import ResponseTextDeltaEvent\n",
    "\n",
    "from agents import Agent, Runner\n",
    "\n",
    "agent = Agent(\n",
    "    name=\"Joker\",\n",
    "    instructions=\"You are a helpful assistant.\",\n",
    ")\n",
    "\n",
    "result = Runner.run_streamed(agent, input=\"Please tell me 5 jokes.\")\n",
    "async for event in result.stream_events():\n",
    "    if event.type == \"raw_response_event\" and isinstance(event.data, ResponseTextDeltaEvent):\n",
    "        print(event.data.delta, end=\"\", flush=True)"
   ]
  },
  {
   "cell_type": "code",
   "execution_count": 183,
   "id": "64c69754-5928-4a9f-a607-a35c5cfa7159",
   "metadata": {},
   "outputs": [],
   "source": [
    "import random\n",
    "from agents import Agent, ItemHelpers, Runner, function_tool\n",
    "\n",
    "@function_tool\n",
    "def how_many_jokes() -> int:\n",
    "    return random.randint(1, 10)\n",
    "\n",
    "agent = Agent(\n",
    "    name=\"Joker\",\n",
    "    instructions=\"First call the `how_many_jokes` tool, then tell that many jokes.\",\n",
    "    tools=[how_many_jokes],\n",
    ")"
   ]
  },
  {
   "cell_type": "code",
   "execution_count": 184,
   "id": "273816c3-f2e4-4581-9e3d-f6ccb5bcdf1a",
   "metadata": {},
   "outputs": [
    {
     "name": "stdout",
     "output_type": "stream",
     "text": [
      "=== Run starting ===\n",
      "Agent updated: Joker\n",
      "-- Tool was called\n",
      "-- Tool output: 10\n",
      "-- Message output:\n",
      " Great! Here are 10 jokes for you:\n",
      "\n",
      "1. **Why don't scientists trust atoms?**\n",
      "   Because they make up everything!\n",
      "\n",
      "2. **What did the ocean say to the beach?**\n",
      "   Nothing, it just waved!\n",
      "\n",
      "3. **Why did the scarecrow win an award?**\n",
      "   Because he was outstanding in his field!\n",
      "\n",
      "4. **How do you organize a space party?**\n",
      "   You planet!\n",
      "\n",
      "5. **Why was the math book sad?**\n",
      "   Because it had too many problems.\n",
      "\n",
      "6. **What do you call fake spaghetti?**\n",
      "   An impasta!\n",
      "\n",
      "7. **Why couldn't the bicycle stand up by itself?**\n",
      "   It was two-tired!\n",
      "\n",
      "8. **What do you call cheese that isn't yours?**\n",
      "   Nacho cheese!\n",
      "\n",
      "9. **How does a penguin build its house?**\n",
      "   Igloos it together!\n",
      "\n",
      "10. **Why did the golfer bring two pairs of pants?**\n",
      "    In case he got a hole in one!\n",
      "\n",
      "Enjoy the laughter!\n",
      "=== Run complete ===\n"
     ]
    }
   ],
   "source": [
    "result = Runner.run_streamed(\n",
    "    agent,\n",
    "    input=\"Hello\",\n",
    ")\n",
    "print(\"=== Run starting ===\")\n",
    "\n",
    "async for event in result.stream_events():\n",
    "    # We'll ignore the raw responses event deltas\n",
    "    if event.type == \"raw_response_event\":\n",
    "        continue\n",
    "    # When the agent updates, print that\n",
    "    elif event.type == \"agent_updated_stream_event\":\n",
    "        print(f\"Agent updated: {event.new_agent.name}\")\n",
    "        continue\n",
    "    # When items are generated, print them\n",
    "    elif event.type == \"run_item_stream_event\":\n",
    "        if event.item.type == \"tool_call_item\":\n",
    "            print(\"-- Tool was called\")\n",
    "        elif event.item.type == \"tool_call_output_item\":\n",
    "            print(f\"-- Tool output: {event.item.output}\")\n",
    "        elif event.item.type == \"message_output_item\":\n",
    "            print(f\"-- Message output:\\n {ItemHelpers.text_message_output(event.item)}\")\n",
    "        else:\n",
    "            pass  # Ignore other event types\n",
    "\n",
    "print(\"=== Run complete ===\")"
   ]
  },
  {
   "cell_type": "markdown",
   "id": "8c71a554-8a85-4926-97a5-50fc8dd60c2b",
   "metadata": {},
   "source": [
    "## GUARDRAILS\n",
    "\n",
    "- **Guardrails** are a way to validate the input and output of an Agent to insure proper usage."
   ]
  },
  {
   "cell_type": "code",
   "execution_count": 185,
   "id": "bc39f662-c2f7-4659-814f-3bdae2331841",
   "metadata": {},
   "outputs": [],
   "source": [
    "from agents import Agent, RunContextWrapper, TResponseInputItem, GuardrailFunctionOutput, input_guardrail\n",
    "\n",
    "class HomeworkCheatDetectionOutput(BaseModel):\n",
    "    attempting_cheat: bool\n",
    "    explanation: str\n",
    "\n",
    "homework_cheat_guardrail_agent = Agent(\n",
    "    name=\"Homework Cheat Detector\",\n",
    "    instructions=(\n",
    "        \"Determine if the user's query resembles a typical homework assignment or exam question, indicating an attempt to cheat. General questions about concepts are acceptable. \"\n",
    "        \" Cheating: 'Fill in the blank: The capital of France is ____.',\"\n",
    "        \" 'Which of the following best describes photosynthesis? A) Cellular respiration B) Conversion of light energy C) Evaporation D) Fermentation.'\"\n",
    "        \" Not-Cheating: 'What is the capital of France?', 'Explain photosynthesis.'\"\n",
    "    ),\n",
    "    output_type=HomeworkCheatDetectionOutput,\n",
    "    model=\"gpt-4o-mini\"\n",
    ")\n",
    "\n",
    "@input_guardrail\n",
    "async def cheat_detection_guardrail(\n",
    "    ctx: RunContextWrapper[None],\n",
    "    agent: Agent, \n",
    "    input: str | list[TResponseInputItem]\n",
    ") -> GuardrailFunctionOutput:\n",
    "    \n",
    "    detection_result = await Runner.run(homework_cheat_guardrail_agent, input)\n",
    "\n",
    "    return GuardrailFunctionOutput(\n",
    "        tripwire_triggered = detection_result.final_output.attempting_cheat,\n",
    "        output_info=detection_result.final_output\n",
    "    )\n",
    "\n",
    "study_helper_agent = Agent(\n",
    "    name=\"Study Helper Agent\",\n",
    "    instructions=\"You assist users in studying by explaining concepts or providing guidance, without directly solving homework or test questions.\",\n",
    "    model = \"gpt-4o\",\n",
    "    input_guardrails=[cheat_detection_guardrail]\n",
    "    \n",
    ")"
   ]
  },
  {
   "cell_type": "code",
   "execution_count": 186,
   "id": "31ac1a6c-2e9e-402f-b005-4e1e3199a1b5",
   "metadata": {},
   "outputs": [
    {
     "name": "stdout",
     "output_type": "stream",
     "text": [
      "Homework cheat guardrail triggered\n",
      "Exception details: Guardrail InputGuardrail triggered tripwire\n"
     ]
    }
   ],
   "source": [
    "# This should trigger the cheat detection guardrail\n",
    "from agents import InputGuardrailTripwireTriggered\n",
    "\n",
    "\n",
    "try:\n",
    "    response = await Runner.run(study_helper_agent, \"Fill in the blank: The process of converting light energy into chemical energy is called ____.\")\n",
    "    print(\"Guardrail didn't trigger\")\n",
    "    print(\"Response: \", response.final_output)\n",
    "\n",
    "except InputGuardrailTripwireTriggered as e:\n",
    "    print(\"Homework cheat guardrail triggered\")\n",
    "    print(\"Exception details:\", str(e))"
   ]
  },
  {
   "cell_type": "code",
   "execution_count": 187,
   "id": "9c891a87-2b75-4db8-99a0-4a0e38ab751d",
   "metadata": {},
   "outputs": [
    {
     "name": "stdout",
     "output_type": "stream",
     "text": [
      "Guardrail didn't trigger\n",
      "Response:  The American Civil War, which took place from 1861 to 1865, was caused by a variety of complex factors, with the primary issues being:\n",
      "\n",
      "1. **Slavery**: The central and most contentious issue was the institution of slavery, particularly its expansion into newly acquired territories and states. The Southern economy relied heavily on slavery, while many in the North opposed its spread.\n",
      "\n",
      "2. **States' Rights**: There was a significant debate over the rights of states versus the authority of the federal government. Southern states favored greater autonomy, particularly regarding decisions about slavery.\n",
      "\n",
      "3. **Economic Differences**: The North and the South had developed distinct economies. The North was more industrialized, while the South remained largely agrarian, relying on slave labor for its economic success.\n",
      "\n",
      "4. **Cultural Differences**: There were growing cultural and social differences between the North and the South, leading to misunderstandings and mistrust.\n",
      "\n",
      "5. **Political Conflicts**: The balance of power in Congress was a persistent issue, with disputes over whether new territories admitted to the Union would be slave or free states.\n",
      "\n",
      "6. **Dred Scott Decision**: This 1857 Supreme Court ruling declared that African Americans, whether free or enslaved, could not be American citizens and that Congress had no authority to prohibit slavery in federal territories, increasing tensions.\n",
      "\n",
      "7. **Abolitionist Movement**: Growing Northern opposition to slavery, fueled by abolitionist literature, speeches, and actions, heightened Southern fears of a threat to their way of life.\n",
      "\n",
      "8. **Election of Abraham Lincoln**: Lincoln's election in 1860 was seen as a threat by the Southern states, as he was opposed to the expansion of slavery, leading to secession talks.\n",
      "\n",
      "These causes intermingled, leading to rising tensions that culminated in the secession of Southern states and the onset of the Civil War.\n"
     ]
    }
   ],
   "source": [
    "# This should trigger the cheat detection guardrail\n",
    "try:\n",
    "    response = await Runner.run(study_helper_agent, \"What were the main causes of the American civil war?\")\n",
    "    print(\"Guardrail didn't trigger\")\n",
    "    print(\"Response: \", response.final_output)\n",
    "\n",
    "except InputGuardrailTripwireTriggered as e:\n",
    "    print(\"Homework cheat guardrail triggered\")\n",
    "    print(\"Exception details:\", str(e))"
   ]
  },
  {
   "cell_type": "markdown",
   "id": "b1842729-ca44-4b58-8325-b555c3232866",
   "metadata": {},
   "source": [
    "### Example "
   ]
  },
  {
   "cell_type": "code",
   "execution_count": 188,
   "id": "e266d0ee-f135-4e83-942f-5ab1aacd137a",
   "metadata": {},
   "outputs": [],
   "source": [
    "from pydantic import BaseModel\n",
    "from agents import (\n",
    "    Agent,\n",
    "    GuardrailFunctionOutput,\n",
    "    OutputGuardrailTripwireTriggered,\n",
    "    RunContextWrapper,\n",
    "    Runner,\n",
    "    output_guardrail,\n",
    ")\n",
    "\n",
    "class MessageOutput(BaseModel):\n",
    "    response: str\n",
    "\n",
    "@output_guardrail\n",
    "async def forbidden_words_guardrail(ctx: RunContextWrapper, agent: Agent, output: str) -> GuardrailFunctionOutput:\n",
    "    print(f\"Checking output for forbidden phrases: {output}\")\n",
    "\n",
    "    # Funny forbidden phrases to check\n",
    "    forbidden_phrases = [\"fart\", \"booger\", \"silly goose\"]\n",
    "\n",
    "    # Convert output to lowercase for case-insensitive comparison\n",
    "    output_lower = output.lower()\n",
    "\n",
    "    # Check which forbidden phrases are present in the response\n",
    "    found_phrases = [phrase for phrase in forbidden_phrases if phrase in output_lower]\n",
    "    trip_triggered = bool(found_phrases)\n",
    "\n",
    "    print(f\"Found forbidden phrases: {found_phrases}\")\n",
    "\n",
    "    return GuardrailFunctionOutput(\n",
    "        output_info={\n",
    "            \"reason\": \"Output contains forbidden phrases.\",\n",
    "            \"forbidden_phrases_found\": found_phrases,\n",
    "        },\n",
    "        tripwire_triggered=trip_triggered,\n",
    "    )\n",
    "\n",
    "agent = Agent(\n",
    "    name=\"Customer support agent\",\n",
    "    instructions=\"You are a customer support agent. You help customers with their questions.\",\n",
    "    output_guardrails=[forbidden_words_guardrail],\n",
    "    model=\"gpt-4o-mini\",\n",
    ")"
   ]
  },
  {
   "cell_type": "code",
   "execution_count": 189,
   "id": "06efae2e-6c82-4173-b7b9-9073500be0e1",
   "metadata": {},
   "outputs": [
    {
     "name": "stdout",
     "output_type": "stream",
     "text": [
      "Checking output for forbidden phrases: Fart! If you have any other questions or need assistance, feel free to ask!\n",
      "Found forbidden phrases: ['fart']\n",
      "The agent said a bad word, he is fired.\n"
     ]
    }
   ],
   "source": [
    "try:\n",
    "    await Runner.run(agent, \"Say the word fart\")\n",
    "    print(\"Guardrail didn't trip - this is unexpected\")\n",
    "except OutputGuardrailTripwireTriggered:\n",
    "    print(\"The agent said a bad word, he is fired.\")"
   ]
  },
  {
   "cell_type": "code",
   "execution_count": 190,
   "id": "0e04dc1d-6af6-4e81-b98f-61f0de64eb36",
   "metadata": {},
   "outputs": [
    {
     "name": "stdout",
     "output_type": "stream",
     "text": [
      "Checking output for forbidden phrases: Hello! I'm here to help you with any questions or issues you might have. What can I assist you with today?\n",
      "Found forbidden phrases: []\n",
      "Guardrail didn't trip yay\n"
     ]
    }
   ],
   "source": [
    "try:\n",
    "    await Runner.run(agent, \"Hey wassup\")\n",
    "    print(\"Guardrail didn't trip yay\")\n",
    "except OutputGuardrailTripwireTriggered:\n",
    "    print(\"The agent said a bad word, he is fired.\")"
   ]
  },
  {
   "cell_type": "markdown",
   "id": "8aefb4af-c250-43c6-b8c8-7f4997a09f7b",
   "metadata": {},
   "source": [
    "## MULTITURN AGENT"
   ]
  },
  {
   "cell_type": "code",
   "execution_count": 194,
   "id": "e28fa0a1-f152-4a8a-b82f-a418c68698fc",
   "metadata": {},
   "outputs": [
    {
     "name": "stdout",
     "output_type": "stream",
     "text": [
      "{'content': 'Hey!', 'role': 'user'}\n",
      "{'content': 'Hello! How can I assist you today?', 'role': 'assistant'}\n",
      "{'content': 'Im having a bad day', 'role': 'user'}\n",
      "{'id': 'msg_6886b237c6fc819eb441d9a9d92041f30737aad0da9133c5', 'content': [{'annotations': [], 'text': \"I'm sorry to hear that. Want to talk about what's going on? Sometimes sharing can help.\", 'type': 'output_text', 'logprobs': []}], 'role': 'assistant', 'status': 'completed', 'type': 'message'}\n"
     ]
    }
   ],
   "source": [
    "from agents import Agent, Runner, TResponseInputItem\n",
    "\n",
    "simple_agent = Agent(\n",
    "    name=\"Bob\",\n",
    "    instructions=\"You are a helpful agent. Reply Concisely.\"\n",
    ")\n",
    "\n",
    "convo: list[TResponseInputItem] = [\n",
    "    {\"content\": \"Hey!\", \"role\": \"user\"},\n",
    "    {\"content\": \"Hello! How can I assist you today?\", \"role\": \"assistant\"},\n",
    "    {\"content\": \"Im having a bad day\", \"role\": \"user\"}\n",
    "]\n",
    "\n",
    "result = await Runner.run(simple_agent, convo)\n",
    "for message in result.to_input_list():\n",
    "    print(message)"
   ]
  },
  {
   "cell_type": "code",
   "execution_count": 195,
   "id": "cfc9f776-f674-47ba-b378-6fe90f5604dd",
   "metadata": {},
   "outputs": [
    {
     "name": "stdout",
     "output_type": "stream",
     "text": [
      "You are now chatting with agent Bob. Type 'exit' to end the conversation.\n"
     ]
    },
    {
     "name": "stdin",
     "output_type": "stream",
     "text": [
      "You:  Hi\n"
     ]
    },
    {
     "name": "stdout",
     "output_type": "stream",
     "text": [
      "You: Hi\n",
      "Agent: Hello! How can I assist you today?\n"
     ]
    },
    {
     "name": "stdin",
     "output_type": "stream",
     "text": [
      "You:  How's your day?\n"
     ]
    },
    {
     "name": "stdout",
     "output_type": "stream",
     "text": [
      "You: How's your day?\n",
      "Agent: Thanks for asking! I'm here and ready to help. How's your day going?\n"
     ]
    },
    {
     "name": "stdin",
     "output_type": "stream",
     "text": [
      "You:  Not good\n"
     ]
    },
    {
     "name": "stdout",
     "output_type": "stream",
     "text": [
      "You: Not good\n",
      "Agent: I'm sorry to hear that. Want to share what's on your mind?\n"
     ]
    },
    {
     "name": "stdin",
     "output_type": "stream",
     "text": [
      "You:  my name is tarun\n"
     ]
    },
    {
     "name": "stdout",
     "output_type": "stream",
     "text": [
      "You: my name is tarun\n",
      "Agent: Hi Tarun! It’s nice to meet you. Anything specific you’d like to talk about?\n"
     ]
    },
    {
     "name": "stdin",
     "output_type": "stream",
     "text": [
      "You:  what's your name?\n"
     ]
    },
    {
     "name": "stdout",
     "output_type": "stream",
     "text": [
      "You: what's your name?\n",
      "Agent: I don't have a personal name, but you can call me Assistant. What can I do for you?\n"
     ]
    },
    {
     "name": "stdin",
     "output_type": "stream",
     "text": [
      "You:  Can I call you bob?\n"
     ]
    },
    {
     "name": "stdout",
     "output_type": "stream",
     "text": [
      "You: Can I call you bob?\n",
      "Agent: Sure, you can call me Bob. How can I assist you, Tarun?\n"
     ]
    },
    {
     "name": "stdin",
     "output_type": "stream",
     "text": [
      "You:  So what's bob planning?\n"
     ]
    },
    {
     "name": "stdout",
     "output_type": "stream",
     "text": [
      "You: So what's bob planning?\n",
      "Agent: I'm here to help you with whatever you need. Do you have something specific in mind?\n"
     ]
    },
    {
     "name": "stdin",
     "output_type": "stream",
     "text": [
      "You:  exit\n"
     ]
    },
    {
     "name": "stdout",
     "output_type": "stream",
     "text": [
      "You: exit\n",
      "Goodbye!\n"
     ]
    }
   ],
   "source": [
    "convo: list[TResponseInputItem] = []\n",
    "print(\"You are now chatting with agent Bob. Type 'exit' to end the conversation.\")\n",
    "while True:\n",
    "    user_input = input(\"You: \")\n",
    "    print(\"You: \" + user_input)\n",
    "\n",
    "    if user_input == \"exit\":\n",
    "        print(\"Goodbye!\")\n",
    "        break\n",
    "\n",
    "    convo.append({\"content\": user_input, \"role\": \"user\"})\n",
    "    result = await Runner.run(simple_agent, convo)\n",
    "\n",
    "    print(f\"Agent: {result.final_output}\")\n",
    "\n",
    "    convo = result.to_input_list()"
   ]
  },
  {
   "cell_type": "markdown",
   "id": "2d28ccf0-8acc-4631-bcb0-79ba951723c6",
   "metadata": {},
   "source": [
    "### Multi-Agent Multi-Turn Example"
   ]
  },
  {
   "cell_type": "code",
   "execution_count": 200,
   "id": "896b6ca5-547e-40e7-95d0-8de538031def",
   "metadata": {},
   "outputs": [],
   "source": [
    "from agents import Agent, Runner, handoff, RunContextWrapper\n",
    "\n",
    "def on_history_handoff(ctx: RunContextWrapper[None]):\n",
    "    print(\"Handing off to history tutor agent\")\n",
    "def on_math_handoff(ctx: RunContextWrapper[None]):\n",
    "    print(\"Handing off to math tutor agent\")\n",
    "def on_triage_handoff(ctx: RunContextWrapper[None]):\n",
    "    print(\"Handing off back to triage agent\")\n",
    "\n",
    "history_tutor_agent = Agent(\n",
    "    name=\"History Tutor\",\n",
    "    handoff_description=\"Specialist agent for historical questions\",\n",
    "    instructions=\"You provide assistance with historical queries. Explain important events and context clearly.\",\n",
    "    handoffs=[handoff(triage_agent, on_handoff=on_triage_handoff)]\n",
    ")\n",
    "\n",
    "math_tutor_agent = Agent(\n",
    "    name=\"Math Tutor\",\n",
    "    handoff_description=\"Specialist agent for math questions\",\n",
    "    instructions=\"You provide assistance with math queries. Explain your reasoning at each step and include examples\",\n",
    "    handoffs=[triage_agent]\n",
    ")\n",
    "\n",
    "\n",
    "# This agent has the capability to handoff to either the history or math tutor agent\n",
    "triage_agent = Agent(\n",
    "    name=\"Triage Agent\",\n",
    "    instructions=\"You determine which agent to use based on the user's homework question.\" +\n",
    "    \"If neither agent is relevant, provide a general response.\",\n",
    "    handoffs=[handoff(history_tutor_agent, on_handoff=on_history_handoff), handoff(math_tutor_agent, on_handoff=on_math_handoff)]\n",
    ")"
   ]
  },
  {
   "cell_type": "code",
   "execution_count": 202,
   "id": "8d6c903f-be0c-4b74-9590-18792713399a",
   "metadata": {},
   "outputs": [
    {
     "name": "stdout",
     "output_type": "stream",
     "text": [
      "You are now chatting with the triage agent. Type 'exit' to end the conversation.\n"
     ]
    },
    {
     "name": "stdin",
     "output_type": "stream",
     "text": [
      "You:  hi\n"
     ]
    },
    {
     "name": "stdout",
     "output_type": "stream",
     "text": [
      "Triage Agent: Hello! How can I assist you today?\n",
      "\n"
     ]
    },
    {
     "name": "stdin",
     "output_type": "stream",
     "text": [
      "You:  how was world war started?\n"
     ]
    },
    {
     "name": "stdout",
     "output_type": "stream",
     "text": [
      "Handing off to history tutor agent\n",
      "History Tutor: World War I, often called the Great War, began in 1914. Several factors contributed to its outbreak:\n",
      "\n",
      "1. **Assassination of Archduke Franz Ferdinand:** The immediate cause was the assassination of Archduke Franz Ferdinand of Austria-Hungary on June 28, 1914, by a Bosnian Serb nationalist in Sarajevo. This event set off a diplomatic crisis.\n",
      "\n",
      "2. **Alliance System:** European countries were divided into two main alliances: the Triple Entente (France, Russia, and the UK) and the Triple Alliance (Germany, Austria-Hungary, and Italy). These alliances were meant for defense but escalated tensions.\n",
      "\n",
      "3. **Imperial Rivalries:** European powers were competing for colonies and influence around the world, leading to conflicts and hostilities.\n",
      "\n",
      "4. **Militarism:** Many countries had built up large militaries and believed in the use of force to achieve national goals, creating an arms race.\n",
      "\n",
      "5. **Nationalism:** Intense national pride and ethnic tensions within and between countries added to the friction.\n",
      "\n",
      "After the assassination, Austria-Hungary issued an ultimatum to Serbia, leading to a declaration of war when it wasn’t fully accepted. The intricate web of alliances and treaties resulted in a rapid escalation, pulling all major European powers into the conflict, which lasted until 1918.\n",
      "\n"
     ]
    },
    {
     "name": "stdin",
     "output_type": "stream",
     "text": [
      "You:  lets get back to triage agent\n"
     ]
    },
    {
     "name": "stdout",
     "output_type": "stream",
     "text": [
      "Handing off back to triage agent\n",
      "Triage Agent: I'm here to help with any questions you have. What's next on your mind?\n",
      "\n"
     ]
    },
    {
     "name": "stdin",
     "output_type": "stream",
     "text": [
      "You:  can you breakdown the above answer from history agent and extract just names, dates and countries.\n"
     ]
    },
    {
     "name": "stdout",
     "output_type": "stream",
     "text": [
      "Triage Agent: Sure! Here's the breakdown with just the names, dates, and countries mentioned:\n",
      "\n",
      "- **Assassination of Archduke Franz Ferdinand**\n",
      "- **Date:** June 28, 1914\n",
      "- **Place:** Sarajevo\n",
      "\n",
      "- **Countries/Alliances:**\n",
      "  - Austria-Hungary\n",
      "  - Bosnia\n",
      "  - Serbia\n",
      "  - Triple Entente: France, Russia, UK\n",
      "  - Triple Alliance: Germany, Austria-Hungary, Italy\n",
      "\n",
      "- **War Duration:** 1914 - 1918\n",
      "\n"
     ]
    },
    {
     "name": "stdin",
     "output_type": "stream",
     "text": [
      "You:  registered death toll on each side of the war by country\n"
     ]
    },
    {
     "name": "stdout",
     "output_type": "stream",
     "text": [
      "Triage Agent: The death toll for major countries involved in World War I varies based on the sources, but here are general estimates:\n",
      "\n",
      "### Allied Powers\n",
      "- **Russia:** ~1.7 million dead\n",
      "- **France:** ~1.4 million dead\n",
      "- **United Kingdom (and British Empire):** ~900,000 dead\n",
      "- **Italy:** ~650,000 dead\n",
      "- **United States:** ~116,000 dead\n",
      "\n",
      "### Central Powers\n",
      "- **Germany:** ~2 million dead\n",
      "- **Austria-Hungary:** ~1.5 million dead\n",
      "- **Ottoman Empire:** ~800,000 dead\n",
      "- **Bulgaria:** ~87,000 dead\n",
      "\n",
      "These numbers include military personnel but may also cover some civilian deaths, depending on the source. Each nation faced devastating losses that extended beyond these numbers when including wounded and missing soldiers.\n",
      "\n"
     ]
    },
    {
     "name": "stdin",
     "output_type": "stream",
     "text": [
      "You:  add these numbers for each group.\n"
     ]
    },
    {
     "name": "stdout",
     "output_type": "stream",
     "text": [
      "Triage Agent: ### Allied Powers Total:\n",
      "- **Russia:** 1.7 million\n",
      "- **France:** 1.4 million\n",
      "- **United Kingdom (and British Empire):** 900,000\n",
      "- **Italy:** 650,000\n",
      "- **United States:** 116,000\n",
      "\n",
      "**Total Allied Deaths:** 4.766 million\n",
      "\n",
      "### Central Powers Total:\n",
      "- **Germany:** 2 million\n",
      "- **Austria-Hungary:** 1.5 million\n",
      "- **Ottoman Empire:** 800,000\n",
      "- **Bulgaria:** 87,000\n",
      "\n",
      "**Total Central Deaths:** 4.387 million\n",
      "\n",
      "These are approximate figures and may vary slightly between different historical sources.\n",
      "\n"
     ]
    },
    {
     "name": "stdin",
     "output_type": "stream",
     "text": [
      "You:  should have used maths tutor\n"
     ]
    },
    {
     "name": "stdout",
     "output_type": "stream",
     "text": [
      "Handing off to math tutor agent\n",
      "Math Tutor: If you have any more math-related questions, feel free to ask! How can I assist you further?\n",
      "\n"
     ]
    },
    {
     "name": "stdin",
     "output_type": "stream",
     "text": [
      "You:  please add the overall death toll in each group\n"
     ]
    },
    {
     "name": "stdout",
     "output_type": "stream",
     "text": [
      "Math Tutor: ### Allied Powers Total Deaths:\n",
      "1.7 million (Russia)  \n",
      "1.4 million (France)  \n",
      "900,000 (United Kingdom and British Empire)  \n",
      "650,000 (Italy)  \n",
      "116,000 (United States)  \n",
      "\n",
      "**Total Allied Deaths:** 4,766,000\n",
      "\n",
      "### Central Powers Total Deaths:\n",
      "2 million (Germany)  \n",
      "1.5 million (Austria-Hungary)  \n",
      "800,000 (Ottoman Empire)  \n",
      "87,000 (Bulgaria)  \n",
      "\n",
      "**Total Central Deaths:** 4,387,000\n",
      "\n",
      "Let me know if there's anything else you'd like to go over!\n",
      "\n"
     ]
    },
    {
     "name": "stdin",
     "output_type": "stream",
     "text": [
      "You:  okay back to triage\n"
     ]
    },
    {
     "name": "stdout",
     "output_type": "stream",
     "text": [
      "Triage Agent: I'm here to help with anything else you need. What would you like to do next?\n",
      "\n"
     ]
    },
    {
     "name": "stdin",
     "output_type": "stream",
     "text": [
      "You:  summarise what we have done so far, mention which of you did what.\n"
     ]
    },
    {
     "name": "stdout",
     "output_type": "stream",
     "text": [
      "Triage Agent: Certainly! Here's a summary of our conversation so far:\n",
      "\n",
      "1. **Your Initial Question:** You asked about how World War I started.\n",
      "   - **Handled by:** History Tutor\n",
      "\n",
      "2. **Breakdown Request:** You asked to extract just the names, dates, and countries from the provided history answer.\n",
      "   - **Handled by:** Triage Agent\n",
      "\n",
      "3. **Death Toll by Country:** You requested the registered death toll on each side of the war by country.\n",
      "   - **Handled by:** Triage Agent\n",
      "\n",
      "4. **Addition of Death Tolls:** You wanted to add the death toll numbers for each group.\n",
      "   - **Handled by:** Triage Agent (initial attempt), then realized should use Math Tutor.\n",
      "\n",
      "5. **Correct Addition of Death Tolls:** I provided the total number of deaths for Allied and Central Powers.\n",
      "   - **Handled by:** Math Tutor\n",
      "\n",
      "If you have any more questions or need further assistance, feel free to ask!\n",
      "\n"
     ]
    },
    {
     "name": "stdin",
     "output_type": "stream",
     "text": [
      "You:  exit\n"
     ]
    },
    {
     "name": "stdout",
     "output_type": "stream",
     "text": [
      "Goodbye!\n"
     ]
    }
   ],
   "source": [
    "convo: list[TResponseInputItem] = []\n",
    "last_agent = triage_agent\n",
    "print(\"You are now chatting with the triage agent. Type 'exit' to end the conversation.\")\n",
    "while True:\n",
    "    user_input = input(\"You: \")\n",
    "    # print(\"You: \" + user_input)\n",
    "\n",
    "    if user_input == \"exit\":\n",
    "        print(\"Goodbye!\")\n",
    "        break\n",
    "\n",
    "    convo.append({\"content\": user_input, \"role\": \"user\"})\n",
    "    result = await Runner.run(last_agent, convo)\n",
    "\n",
    "    convo = result.to_input_list()\n",
    "    last_agent = result.last_agent\n",
    "\n",
    "    print(f\"{last_agent.name}: {result.final_output}\\n\")"
   ]
  },
  {
   "cell_type": "markdown",
   "id": "52b83025-be3d-4574-a24b-1b345ef5b99d",
   "metadata": {},
   "source": [
    "## CONTEXT\n",
    "\n",
    "- **Context** is a way to pass along data during the agent's lifecycle."
   ]
  },
  {
   "cell_type": "code",
   "execution_count": 203,
   "id": "0eb36f47-4432-4546-8881-317f514d49f7",
   "metadata": {},
   "outputs": [],
   "source": [
    "from dataclasses import dataclass\n",
    "import random\n",
    "\n",
    "from agents import Agent, RunContextWrapper, Runner, TResponseInputItem, function_tool\n",
    "\n",
    "\n",
    "@dataclass\n",
    "class UserProfile:\n",
    "    id: str\n",
    "    name: str\n",
    "    shopping_cart: list[str]\n",
    "\n",
    "@function_tool\n",
    "async def get_budget(wrapper: RunContextWrapper[UserProfile]):\n",
    "    \"\"\"\n",
    "    Get the account balance of the user using the user's id and their linked bank account\n",
    "    \"\"\"\n",
    "    print(\"Getting account balance\")\n",
    "    user_id = wrapper.context.id\n",
    "\n",
    "    # pretend we are fetching the account balance from a database\n",
    "\n",
    "    return 100.0\n",
    "\n",
    "@function_tool\n",
    "async def search_for_item(wrapper: RunContextWrapper[UserProfile], item: str) -> str:\n",
    "    \"\"\"\n",
    "    Search for an item in the database\n",
    "    \"\"\"\n",
    "    print(\"Searching for item\")\n",
    "    # randomly generate a price for the item\n",
    "    price = random.randint(1, 100)\n",
    "    return f\"Found {item} in the database for ${price}.00\"\n",
    "\n",
    "@function_tool\n",
    "async def get_shopping_cart(wrapper: RunContextWrapper[UserProfile]) -> list[str]:\n",
    "    print(\"Getting shopping cart\")\n",
    "    return wrapper.context.shopping_cart\n",
    "\n",
    "@function_tool\n",
    "async def add_to_shopping_cart(wrapper: RunContextWrapper[UserProfile], items: list[str]) -> None:\n",
    "    print(\"Adding items to shopping cart\")\n",
    "    wrapper.context.shopping_cart.extend(items)\n",
    "    \n",
    "@function_tool\n",
    "async def purchase_items(wrapper: RunContextWrapper[UserProfile]) -> None:\n",
    "    print(\"Purchasing items\")\n",
    "    \n",
    "    # we could take the items from the shopping cart and purchase them using some external API\n",
    "    # for now, we'll just print a message\n",
    "    print(f\"Successfully purchased items: {wrapper.context.shopping_cart}\")\n",
    "\n",
    "shopping_agent = Agent[UserProfile](\n",
    "    name=\"Shopping Assistant\",\n",
    "    instructions=(\n",
    "        \"You are a shopping assistant dedicated to helping the user with their grocery shopping needs.\"\n",
    "        \"Your primary role is to assist in creating a shopping plan that fits within the user's budget.\"\n",
    "        \"Start by getting the user's budget using the tool get_budget.\"\n",
    "        \"Provide suggestions for items if requested, and always aim to keep the total cost within the user's budget.\"\n",
    "        \"If the user is nearing or exceeding their budget, inform them and suggest alternatives or adjustments to the shopping list.\"\n",
    "        \"If the user authorizes it, you can purchase the items using the tool purchase_items.\"\n",
    "    ),\n",
    "    tools=[get_shopping_cart, add_to_shopping_cart, get_budget, search_for_item, purchase_items],\n",
    ")"
   ]
  },
  {
   "cell_type": "code",
   "execution_count": 205,
   "id": "ab0cabab-e6c8-4bd7-b444-114ef911b6d1",
   "metadata": {},
   "outputs": [
    {
     "name": "stdout",
     "output_type": "stream",
     "text": [
      "You are now chatting with the shopping assistant. Type 'exit' to end the conversation.\n"
     ]
    },
    {
     "name": "stdin",
     "output_type": "stream",
     "text": [
      "You:  hi\n"
     ]
    },
    {
     "name": "stdout",
     "output_type": "stream",
     "text": [
      "Shopping Assistant: Hello! How can I assist you with your shopping today?\n"
     ]
    },
    {
     "name": "stdin",
     "output_type": "stream",
     "text": [
      "You:  what's my balance?\n"
     ]
    },
    {
     "name": "stdout",
     "output_type": "stream",
     "text": [
      "Getting account balance\n",
      "Shopping Assistant: Your current budget is $100. How can I help you with your shopping list today?\n"
     ]
    },
    {
     "name": "stdin",
     "output_type": "stream",
     "text": [
      "You:  I need to buy lasagna.\n"
     ]
    },
    {
     "name": "stdout",
     "output_type": "stream",
     "text": [
      "Searching for item\n",
      "Shopping Assistant: The lasagna is priced at $100, which matches your entire budget. Would you like to proceed with the purchase, or would you like to explore other options?\n"
     ]
    },
    {
     "name": "stdin",
     "output_type": "stream",
     "text": [
      "You:  sure\n"
     ]
    },
    {
     "name": "stdout",
     "output_type": "stream",
     "text": [
      "Adding items to shopping cart\n",
      "Purchasing items\n",
      "Successfully purchased items: ['lasagna']\n",
      "Shopping Assistant: The lasagna has been purchased successfully. Your budget is now fully utilized. Is there anything else you need help with?\n"
     ]
    },
    {
     "name": "stdin",
     "output_type": "stream",
     "text": [
      "You:  what's my username?\n"
     ]
    },
    {
     "name": "stdout",
     "output_type": "stream",
     "text": [
      "Shopping Assistant: I'm unable to access your username. You may need to check your account settings for that information.\n"
     ]
    },
    {
     "name": "stdin",
     "output_type": "stream",
     "text": [
      "You:  exit\n"
     ]
    },
    {
     "name": "stdout",
     "output_type": "stream",
     "text": [
      "Goodbye!\n"
     ]
    }
   ],
   "source": [
    "profile = UserProfile(id=\"123\", name=\"Alex\", shopping_cart=[])\n",
    "print(\"You are now chatting with the shopping assistant. Type 'exit' to end the conversation.\")\n",
    "convo_items: list[TResponseInputItem] = []\n",
    "while True:\n",
    "    user_input = input(\"You: \")\n",
    "\n",
    "    if user_input == \"exit\":\n",
    "        print(\"Goodbye!\")\n",
    "        break\n",
    "\n",
    "    convo_items.append({\"content\": user_input, \"role\": \"user\"})\n",
    "    result = await Runner.run(shopping_agent, convo_items, context=profile)\n",
    "    \n",
    "    print(f\"Shopping Assistant: {result.final_output}\")\n",
    "    \n",
    "    convo_items = result.to_input_list()"
   ]
  },
  {
   "cell_type": "markdown",
   "id": "e76b90f8-3e6b-42f7-b8f8-4aeec38fd3d5",
   "metadata": {},
   "source": [
    "## Visulization"
   ]
  },
  {
   "cell_type": "code",
   "execution_count": 207,
   "id": "464bd8ed-d160-47b5-ab37-2817bad24911",
   "metadata": {},
   "outputs": [],
   "source": [
    "from agents import Agent, Runner, function_tool, handoff, RunContextWrapper\n",
    "from agents.extensions.visualization import draw_graph\n",
    "\n",
    "@function_tool\n",
    "def print_something():\n",
    "    print(\"blah blah\")\n",
    "\n",
    "history_tutor_agent = Agent(\n",
    "    name=\"History Tutor\",\n",
    "    handoff_description=\"Specialist agent for historical questions\",\n",
    "    instructions=\"You provide assistance with historical queries. Explain important events and context clearly.\",\n",
    ")\n",
    "\n",
    "math_tutor_agent = Agent(\n",
    "    name=\"Math Tutor\",\n",
    "    handoff_description=\"Specialist agent for math questions\",\n",
    "    instructions=\"You provide assistance with math queries. Explain your reasoning at each step and include examples\"\n",
    ")\n",
    "\n",
    "def on_math_handoff(ctx: RunContextWrapper[None]):\n",
    "    print(\"Handing off to math tutor agent\")\n",
    "\n",
    "def on_history_handoff(ctx: RunContextWrapper[None]):\n",
    "    print(\"Handing off to history tutor agent\")\n",
    "\n",
    "# This agent has the capability to handoff to either the history or math tutor agent\n",
    "triage_agent = Agent(\n",
    "    name=\"Triage Agent\",\n",
    "    instructions=\"You determine which agent to use based on the user's homework question.\" +\n",
    "    \"If neither agent is relevant, provide a general response.\",\n",
    "    handoffs=[handoff(history_tutor_agent, on_handoff=on_history_handoff), \n",
    "              handoff(math_tutor_agent, on_handoff=on_math_handoff)],\n",
    "    tools=[print_something]\n",
    ")"
   ]
  },
  {
   "cell_type": "code",
   "execution_count": 208,
   "id": "b2c17b3c-a405-401d-8a68-2d94ce7c7c9e",
   "metadata": {},
   "outputs": [
    {
     "name": "stderr",
     "output_type": "stream",
     "text": [
      "Python(65210) MallocStackLogging: can't turn off malloc stack logging because it was not enabled.\n"
     ]
    },
    {
     "data": {
      "image/svg+xml": [
       "<?xml version=\"1.0\" encoding=\"UTF-8\" standalone=\"no\"?>\n",
       "<!DOCTYPE svg PUBLIC \"-//W3C//DTD SVG 1.1//EN\"\n",
       " \"http://www.w3.org/Graphics/SVG/1.1/DTD/svg11.dtd\">\n",
       "<!-- Generated by graphviz version 13.1.1 (20250719.2154)\n",
       " -->\n",
       "<!-- Title: G Pages: 1 -->\n",
       "<svg width=\"420pt\" height=\"229pt\"\n",
       " viewBox=\"0.00 0.00 420.00 229.00\" xmlns=\"http://www.w3.org/2000/svg\" xmlns:xlink=\"http://www.w3.org/1999/xlink\">\n",
       "<g id=\"graph0\" class=\"graph\" transform=\"scale(1 1) rotate(0) translate(4 224.79)\">\n",
       "<title>G</title>\n",
       "<polygon fill=\"white\" stroke=\"none\" points=\"-4,4 -4,-224.79 415.73,-224.79 415.73,4 -4,4\"/>\n",
       "<!-- __start__ -->\n",
       "<g id=\"node1\" class=\"node\">\n",
       "<title>__start__</title>\n",
       "<ellipse fill=\"lightblue\" stroke=\"black\" cx=\"155.73\" cy=\"-203.99\" rx=\"51.09\" ry=\"16.79\"/>\n",
       "<text xml:space=\"preserve\" text-anchor=\"middle\" x=\"155.73\" y=\"-198.57\" font-family=\"Arial\" font-size=\"14.00\">__start__</text>\n",
       "</g>\n",
       "<!-- Triage Agent -->\n",
       "<g id=\"node3\" class=\"node\">\n",
       "<title>Triage Agent</title>\n",
       "<polygon fill=\"lightyellow\" stroke=\"black\" points=\"209.73,-151.2 101.73,-151.2 101.73,-93.6 209.73,-93.6 209.73,-151.2\"/>\n",
       "<text xml:space=\"preserve\" text-anchor=\"middle\" x=\"155.73\" y=\"-116.97\" font-family=\"Arial\" font-size=\"14.00\">Triage Agent</text>\n",
       "</g>\n",
       "<!-- __start__&#45;&gt;Triage Agent -->\n",
       "<g id=\"edge1\" class=\"edge\">\n",
       "<title>__start__&#45;&gt;Triage Agent</title>\n",
       "<path fill=\"none\" stroke=\"black\" stroke-width=\"1.5\" d=\"M155.73,-186.89C155.73,-180.05 155.73,-171.75 155.73,-163.43\"/>\n",
       "<polygon fill=\"black\" stroke=\"black\" stroke-width=\"1.5\" points=\"159.23,-163.68 155.73,-153.68 152.23,-163.68 159.23,-163.68\"/>\n",
       "</g>\n",
       "<!-- __end__ -->\n",
       "<g id=\"node2\" class=\"node\">\n",
       "<title>__end__</title>\n",
       "<ellipse fill=\"lightblue\" stroke=\"black\" cx=\"273.73\" cy=\"-203.99\" rx=\"48.44\" ry=\"16.79\"/>\n",
       "<text xml:space=\"preserve\" text-anchor=\"middle\" x=\"273.73\" y=\"-198.57\" font-family=\"Arial\" font-size=\"14.00\">__end__</text>\n",
       "</g>\n",
       "<!-- print_something -->\n",
       "<g id=\"node4\" class=\"node\">\n",
       "<title>print_something</title>\n",
       "<ellipse fill=\"lightgreen\" stroke=\"black\" cx=\"79.73\" cy=\"-28.8\" rx=\"79.73\" ry=\"16.79\"/>\n",
       "<text xml:space=\"preserve\" text-anchor=\"middle\" x=\"79.73\" y=\"-23.37\" font-family=\"Arial\" font-size=\"14.00\">print_something</text>\n",
       "</g>\n",
       "<!-- Triage Agent&#45;&gt;print_something -->\n",
       "<g id=\"edge2\" class=\"edge\">\n",
       "<title>Triage Agent&#45;&gt;print_something</title>\n",
       "<path fill=\"none\" stroke=\"black\" stroke-width=\"1.5\" stroke-dasharray=\"1,5\" d=\"M126.24,-93.42C115.57,-81.37 104,-67.38 94.98,-55.59\"/>\n",
       "<polygon fill=\"black\" stroke=\"black\" stroke-width=\"1.5\" points=\"97.92,-53.67 89.15,-47.72 92.3,-57.84 97.92,-53.67\"/>\n",
       "</g>\n",
       "<!-- History Tutor -->\n",
       "<g id=\"node5\" class=\"node\">\n",
       "<title>History Tutor</title>\n",
       "<path fill=\"none\" stroke=\"black\" d=\"M273.73,-57.6C273.73,-57.6 189.73,-57.6 189.73,-57.6 183.73,-57.6 177.73,-51.6 177.73,-45.6 177.73,-45.6 177.73,-12 177.73,-12 177.73,-6 183.73,0 189.73,0 189.73,0 273.73,0 273.73,0 279.73,0 285.73,-6 285.73,-12 285.73,-12 285.73,-45.6 285.73,-45.6 285.73,-51.6 279.73,-57.6 273.73,-57.6\"/>\n",
       "<text xml:space=\"preserve\" text-anchor=\"middle\" x=\"231.73\" y=\"-23.37\" font-family=\"Arial\" font-size=\"14.00\">History Tutor</text>\n",
       "</g>\n",
       "<!-- Triage Agent&#45;&gt;History Tutor -->\n",
       "<g id=\"edge4\" class=\"edge\">\n",
       "<title>Triage Agent&#45;&gt;History Tutor</title>\n",
       "<path fill=\"none\" stroke=\"black\" stroke-width=\"1.5\" d=\"M178.94,-93.42C185.8,-85.15 193.42,-75.96 200.69,-67.2\"/>\n",
       "<polygon fill=\"black\" stroke=\"black\" stroke-width=\"1.5\" points=\"203.25,-69.6 206.94,-59.67 197.86,-65.13 203.25,-69.6\"/>\n",
       "</g>\n",
       "<!-- Math Tutor -->\n",
       "<g id=\"node6\" class=\"node\">\n",
       "<title>Math Tutor</title>\n",
       "<path fill=\"none\" stroke=\"black\" d=\"M399.73,-57.6C399.73,-57.6 315.73,-57.6 315.73,-57.6 309.73,-57.6 303.73,-51.6 303.73,-45.6 303.73,-45.6 303.73,-12 303.73,-12 303.73,-6 309.73,0 315.73,0 315.73,0 399.73,0 399.73,0 405.73,0 411.73,-6 411.73,-12 411.73,-12 411.73,-45.6 411.73,-45.6 411.73,-51.6 405.73,-57.6 399.73,-57.6\"/>\n",
       "<text xml:space=\"preserve\" text-anchor=\"middle\" x=\"357.73\" y=\"-23.37\" font-family=\"Arial\" font-size=\"14.00\">Math Tutor</text>\n",
       "</g>\n",
       "<!-- Triage Agent&#45;&gt;Math Tutor -->\n",
       "<g id=\"edge5\" class=\"edge\">\n",
       "<title>Triage Agent&#45;&gt;Math Tutor</title>\n",
       "<path fill=\"none\" stroke=\"black\" stroke-width=\"1.5\" d=\"M210.12,-96.73C235.38,-85.28 265.61,-71.57 292.12,-59.55\"/>\n",
       "<polygon fill=\"black\" stroke=\"black\" stroke-width=\"1.5\" points=\"293.5,-62.77 301.16,-55.45 290.61,-56.39 293.5,-62.77\"/>\n",
       "</g>\n",
       "<!-- print_something&#45;&gt;Triage Agent -->\n",
       "<g id=\"edge3\" class=\"edge\">\n",
       "<title>print_something&#45;&gt;Triage Agent</title>\n",
       "<path fill=\"none\" stroke=\"black\" stroke-width=\"1.5\" stroke-dasharray=\"1,5\" d=\"M97.87,-45.37C107.91,-55.94 120.38,-70.39 131.23,-83.86\"/>\n",
       "<polygon fill=\"black\" stroke=\"black\" stroke-width=\"1.5\" points=\"128.43,-85.96 137.38,-91.64 133.92,-81.62 128.43,-85.96\"/>\n",
       "</g>\n",
       "</g>\n",
       "</svg>\n"
      ],
      "text/plain": [
       "<graphviz.sources.Source at 0x10950de80>"
      ]
     },
     "execution_count": 208,
     "metadata": {},
     "output_type": "execute_result"
    }
   ],
   "source": [
    "draw_graph(triage_agent)"
   ]
  },
  {
   "cell_type": "markdown",
   "id": "fcc3883a-09c6-4f9c-b516-b3bf88f32c95",
   "metadata": {},
   "source": [
    "## Common Agent Patterns"
   ]
  },
  {
   "cell_type": "markdown",
   "id": "d617db4d-43fd-43fd-91a5-67548f158fb6",
   "metadata": {},
   "source": [
    "# Deep Research System"
   ]
  },
  {
   "cell_type": "code",
   "execution_count": null,
   "id": "3ae2302b-ecab-48c0-9bd2-f40ccc4e4779",
   "metadata": {},
   "outputs": [],
   "source": []
  }
 ],
 "metadata": {
  "kernelspec": {
   "display_name": "Python 3 (ipykernel)",
   "language": "python",
   "name": "python3"
  },
  "language_info": {
   "codemirror_mode": {
    "name": "ipython",
    "version": 3
   },
   "file_extension": ".py",
   "mimetype": "text/x-python",
   "name": "python",
   "nbconvert_exporter": "python",
   "pygments_lexer": "ipython3",
   "version": "3.13.5"
  }
 },
 "nbformat": 4,
 "nbformat_minor": 5
}
